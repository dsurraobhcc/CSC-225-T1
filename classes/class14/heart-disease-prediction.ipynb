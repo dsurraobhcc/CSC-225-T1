{
 "cells": [
  {
   "cell_type": "markdown",
   "metadata": {},
   "source": [
    "### Heart disease prediction\n",
    "This database contains 76 attributes, but all published experiments refer to using a subset of 14 of them. In particular, the Cleveland database is the only one that has been used by ML researchers to\n",
    "this date. \n",
    "\n",
    "#### The \"goal\" field refers to the presence of heart disease in the patient. It is integer valued from 0 (no presence) to 4.\n",
    "\n",
    "Attribute Information:\n",
    "\n",
    "1) age\n",
    "2) sex\n",
    "3) chest pain type (4 values)\n",
    "4) resting blood pressure\n",
    "5) serum cholestoral in mg/dl\n",
    "6) fasting blood sugar > 120 mg/dl\n",
    "7) resting electrocardiographic results (values 0,1,2)\n",
    "8) maximum heart rate achieved\n",
    "9) exercise induced angina\n",
    "10) oldpeak = ST depression induced by exercise relative to rest\n",
    "11) the slope of the peak exercise ST segment\n",
    "12) number of major vessels (0-3) colored by flourosopy\n",
    "13) thal: 3 = normal; 6 = fixed defect; 7 = reversable defect\n",
    "\n",
    "The names and social security numbers of the patients were recently removed from the database, replaced with dummy values. One file has been \"processed\", that one containing the Cleveland database. All four unprocessed files also exist in this directory."
   ]
  },
  {
   "cell_type": "code",
   "execution_count": 55,
   "metadata": {
    "_cell_guid": "b1076dfc-b9ad-4769-8c92-a6c4dae69d19",
    "_uuid": "8f2839f25d086af736a60e9eeb907d3b93b6e0e5"
   },
   "outputs": [],
   "source": [
    "# This Python 3 environment comes with many helpful analytics libraries installed\n",
    "# It is defined by the kaggle/python Docker image: https://github.com/kaggle/docker-python\n",
    "# For example, here's several helpful packages to load\n",
    "\n",
    "import numpy as np # linear algebra\n",
    "import pandas as pd # data processing, CSV file I/O (e.g. pd.read_csv)\n",
    "\n",
    "# Input data files are available in the read-only \"../input/\" directory\n",
    "# For example, running this (by clicking run or pressing Shift+Enter) will list all files under the input directory\n",
    "\n",
    "import os\n",
    "for dirname, _, filenames in os.walk('/kaggle/input'):\n",
    "    for filename in filenames:\n",
    "        print(os.path.join(dirname, filename))\n",
    "\n",
    "# You can write up to 20GB to the current directory (/kaggle/working/) that gets preserved as output when you create a version using \"Save & Run All\" \n",
    "# You can also write temporary files to /kaggle/temp/, but they won't be saved outside of the current session"
   ]
  },
  {
   "cell_type": "code",
   "execution_count": 56,
   "metadata": {},
   "outputs": [
    {
     "data": {
      "text/html": [
       "<div>\n",
       "<style scoped>\n",
       "    .dataframe tbody tr th:only-of-type {\n",
       "        vertical-align: middle;\n",
       "    }\n",
       "\n",
       "    .dataframe tbody tr th {\n",
       "        vertical-align: top;\n",
       "    }\n",
       "\n",
       "    .dataframe thead th {\n",
       "        text-align: right;\n",
       "    }\n",
       "</style>\n",
       "<table border=\"1\" class=\"dataframe\">\n",
       "  <thead>\n",
       "    <tr style=\"text-align: right;\">\n",
       "      <th></th>\n",
       "      <th>age</th>\n",
       "      <th>sex</th>\n",
       "      <th>cp</th>\n",
       "      <th>trestbps</th>\n",
       "      <th>chol</th>\n",
       "      <th>fbs</th>\n",
       "      <th>restecg</th>\n",
       "      <th>thalach</th>\n",
       "      <th>exang</th>\n",
       "      <th>oldpeak</th>\n",
       "      <th>slope</th>\n",
       "      <th>ca</th>\n",
       "      <th>thal</th>\n",
       "      <th>target</th>\n",
       "    </tr>\n",
       "  </thead>\n",
       "  <tbody>\n",
       "    <tr>\n",
       "      <th>0</th>\n",
       "      <td>63</td>\n",
       "      <td>1</td>\n",
       "      <td>3</td>\n",
       "      <td>145</td>\n",
       "      <td>233</td>\n",
       "      <td>1</td>\n",
       "      <td>0</td>\n",
       "      <td>150</td>\n",
       "      <td>0</td>\n",
       "      <td>2.3</td>\n",
       "      <td>0</td>\n",
       "      <td>0</td>\n",
       "      <td>1</td>\n",
       "      <td>1</td>\n",
       "    </tr>\n",
       "    <tr>\n",
       "      <th>1</th>\n",
       "      <td>37</td>\n",
       "      <td>1</td>\n",
       "      <td>2</td>\n",
       "      <td>130</td>\n",
       "      <td>250</td>\n",
       "      <td>0</td>\n",
       "      <td>1</td>\n",
       "      <td>187</td>\n",
       "      <td>0</td>\n",
       "      <td>3.5</td>\n",
       "      <td>0</td>\n",
       "      <td>0</td>\n",
       "      <td>2</td>\n",
       "      <td>1</td>\n",
       "    </tr>\n",
       "    <tr>\n",
       "      <th>2</th>\n",
       "      <td>41</td>\n",
       "      <td>0</td>\n",
       "      <td>1</td>\n",
       "      <td>130</td>\n",
       "      <td>204</td>\n",
       "      <td>0</td>\n",
       "      <td>0</td>\n",
       "      <td>172</td>\n",
       "      <td>0</td>\n",
       "      <td>1.4</td>\n",
       "      <td>2</td>\n",
       "      <td>0</td>\n",
       "      <td>2</td>\n",
       "      <td>1</td>\n",
       "    </tr>\n",
       "    <tr>\n",
       "      <th>3</th>\n",
       "      <td>56</td>\n",
       "      <td>1</td>\n",
       "      <td>1</td>\n",
       "      <td>120</td>\n",
       "      <td>236</td>\n",
       "      <td>0</td>\n",
       "      <td>1</td>\n",
       "      <td>178</td>\n",
       "      <td>0</td>\n",
       "      <td>0.8</td>\n",
       "      <td>2</td>\n",
       "      <td>0</td>\n",
       "      <td>2</td>\n",
       "      <td>1</td>\n",
       "    </tr>\n",
       "    <tr>\n",
       "      <th>4</th>\n",
       "      <td>57</td>\n",
       "      <td>0</td>\n",
       "      <td>0</td>\n",
       "      <td>120</td>\n",
       "      <td>354</td>\n",
       "      <td>0</td>\n",
       "      <td>1</td>\n",
       "      <td>163</td>\n",
       "      <td>1</td>\n",
       "      <td>0.6</td>\n",
       "      <td>2</td>\n",
       "      <td>0</td>\n",
       "      <td>2</td>\n",
       "      <td>1</td>\n",
       "    </tr>\n",
       "  </tbody>\n",
       "</table>\n",
       "</div>"
      ],
      "text/plain": [
       "   age  sex  cp  trestbps  chol  fbs  restecg  thalach  exang  oldpeak  slope  \\\n",
       "0   63    1   3       145   233    1        0      150      0      2.3      0   \n",
       "1   37    1   2       130   250    0        1      187      0      3.5      0   \n",
       "2   41    0   1       130   204    0        0      172      0      1.4      2   \n",
       "3   56    1   1       120   236    0        1      178      0      0.8      2   \n",
       "4   57    0   0       120   354    0        1      163      1      0.6      2   \n",
       "\n",
       "   ca  thal  target  \n",
       "0   0     1       1  \n",
       "1   0     2       1  \n",
       "2   0     2       1  \n",
       "3   0     2       1  \n",
       "4   0     2       1  "
      ]
     },
     "execution_count": 56,
     "metadata": {},
     "output_type": "execute_result"
    }
   ],
   "source": [
    "data = pd.read_csv('data/heart.csv')\n",
    "data.head()"
   ]
  },
  {
   "cell_type": "code",
   "execution_count": 57,
   "metadata": {},
   "outputs": [],
   "source": [
    "import seaborn as sns"
   ]
  },
  {
   "cell_type": "code",
   "execution_count": 58,
   "metadata": {},
   "outputs": [
    {
     "data": {
      "text/plain": [
       "<matplotlib.axes._subplots.AxesSubplot at 0x7fc3d0fea710>"
      ]
     },
     "execution_count": 58,
     "metadata": {},
     "output_type": "execute_result"
    },
    {
     "data": {
      "image/png": "[encoded data removed]",
      "text/plain": [
       "<Figure size 432x288 with 1 Axes>"
      ]
     },
     "metadata": {
      "needs_background": "light"
     },
     "output_type": "display_data"
    }
   ],
   "source": [
    "sns.countplot(data.sex)"
   ]
  },
  {
   "cell_type": "code",
   "execution_count": 59,
   "metadata": {},
   "outputs": [
    {
     "data": {
      "text/plain": [
       "<matplotlib.axes._subplots.AxesSubplot at 0x7fc3d113a750>"
      ]
     },
     "execution_count": 59,
     "metadata": {},
     "output_type": "execute_result"
    },
    {
     "data": {
      "image/png": "[encoded data removed]",
      "text/plain": [
       "<Figure size 432x288 with 1 Axes>"
      ]
     },
     "metadata": {
      "needs_background": "light"
     },
     "output_type": "display_data"
    }
   ],
   "source": [
    "sns.countplot(data.cp)"
   ]
  },
  {
   "cell_type": "code",
   "execution_count": 60,
   "metadata": {},
   "outputs": [
    {
     "data": {
      "text/plain": [
       "<matplotlib.axes._subplots.AxesSubplot at 0x7fc3d1226dd0>"
      ]
     },
     "execution_count": 60,
     "metadata": {},
     "output_type": "execute_result"
    },
    {
     "data": {
      "image/png": "[encoded data removed]",
      "text/plain": [
       "<Figure size 432x288 with 1 Axes>"
      ]
     },
     "metadata": {
      "needs_background": "light"
     },
     "output_type": "display_data"
    }
   ],
   "source": [
    "sns.barplot(x=data.fbs, y=data.target)"
   ]
  },
  {
   "cell_type": "code",
   "execution_count": 61,
   "metadata": {},
   "outputs": [
    {
     "data": {
      "text/plain": [
       "<matplotlib.axes._subplots.AxesSubplot at 0x7fc3d135d210>"
      ]
     },
     "execution_count": 61,
     "metadata": {},
     "output_type": "execute_result"
    },
    {
     "data": {
      "image/png": "[encoded data removed]",
      "text/plain": [
       "<Figure size 432x288 with 1 Axes>"
      ]
     },
     "metadata": {
      "needs_background": "light"
     },
     "output_type": "display_data"
    }
   ],
   "source": [
    "sns.countplot(data.restecg)"
   ]
  },
  {
   "cell_type": "code",
   "execution_count": 62,
   "metadata": {},
   "outputs": [
    {
     "data": {
      "text/plain": [
       "<matplotlib.axes._subplots.AxesSubplot at 0x7fc3d144d510>"
      ]
     },
     "execution_count": 62,
     "metadata": {},
     "output_type": "execute_result"
    },
    {
     "data": {
      "image/png": "[encoded data removed]",
      "text/plain": [
       "<Figure size 432x288 with 1 Axes>"
      ]
     },
     "metadata": {
      "needs_background": "light"
     },
     "output_type": "display_data"
    }
   ],
   "source": [
    "sns.barplot(x=data.oldpeak, y=data.target)"
   ]
  },
  {
   "cell_type": "code",
   "execution_count": 63,
   "metadata": {},
   "outputs": [
    {
     "data": {
      "text/plain": [
       "<matplotlib.axes._subplots.AxesSubplot at 0x7fc3d1494190>"
      ]
     },
     "execution_count": 63,
     "metadata": {},
     "output_type": "execute_result"
    },
    {
     "data": {
      "image/png": "[encoded data removed]",
      "text/plain": [
       "<Figure size 432x288 with 1 Axes>"
      ]
     },
     "metadata": {
      "needs_background": "light"
     },
     "output_type": "display_data"
    }
   ],
   "source": [
    "sns.countplot(data.slope)"
   ]
  },
  {
   "cell_type": "code",
   "execution_count": 64,
   "metadata": {},
   "outputs": [
    {
     "data": {
      "text/plain": [
       "<matplotlib.axes._subplots.AxesSubplot at 0x7fc3d17bf5d0>"
      ]
     },
     "execution_count": 64,
     "metadata": {},
     "output_type": "execute_result"
    },
    {
     "data": {
      "image/png": "[encoded data removed]",
      "text/plain": [
       "<Figure size 432x288 with 1 Axes>"
      ]
     },
     "metadata": {
      "needs_background": "light"
     },
     "output_type": "display_data"
    }
   ],
   "source": [
    "sns.countplot(data.thal)"
   ]
  },
  {
   "cell_type": "code",
   "execution_count": 65,
   "metadata": {},
   "outputs": [],
   "source": [
    "import matplotlib.pyplot as plt"
   ]
  },
  {
   "cell_type": "code",
   "execution_count": 66,
   "metadata": {},
   "outputs": [
    {
     "data": {
      "text/plain": [
       "Text(0, 0.5, 'Target')"
      ]
     },
     "execution_count": 66,
     "metadata": {},
     "output_type": "execute_result"
    },
    {
     "data": {
      "image/png": "[encoded data removed]",
      "text/plain": [
       "<Figure size 432x288 with 1 Axes>"
      ]
     },
     "metadata": {
      "needs_background": "light"
     },
     "output_type": "display_data"
    }
   ],
   "source": [
    "plt.scatter(data[['trestbps']], data.target, color='red', marker='+')\n",
    "plt.xlabel('trestbps')\n",
    "plt.ylabel('Target')"
   ]
  },
  {
   "cell_type": "code",
   "execution_count": 67,
   "metadata": {},
   "outputs": [
    {
     "data": {
      "text/plain": [
       "Text(0, 0.5, 'Target')"
      ]
     },
     "execution_count": 67,
     "metadata": {},
     "output_type": "execute_result"
    },
    {
     "data": {
      "image/png": "[encoded data removed]",
      "text/plain": [
       "<Figure size 432x288 with 1 Axes>"
      ]
     },
     "metadata": {
      "needs_background": "light"
     },
     "output_type": "display_data"
    }
   ],
   "source": [
    "plt.scatter(data[['age']], data.target, color='green', marker='+')\n",
    "plt.xlabel('age')\n",
    "plt.ylabel('Target')"
   ]
  },
  {
   "cell_type": "code",
   "execution_count": 68,
   "metadata": {},
   "outputs": [
    {
     "data": {
      "text/html": [
       "<div>\n",
       "<style scoped>\n",
       "    .dataframe tbody tr th:only-of-type {\n",
       "        vertical-align: middle;\n",
       "    }\n",
       "\n",
       "    .dataframe tbody tr th {\n",
       "        vertical-align: top;\n",
       "    }\n",
       "\n",
       "    .dataframe thead th {\n",
       "        text-align: right;\n",
       "    }\n",
       "</style>\n",
       "<table border=\"1\" class=\"dataframe\">\n",
       "  <thead>\n",
       "    <tr style=\"text-align: right;\">\n",
       "      <th></th>\n",
       "      <th>age</th>\n",
       "      <th>sex</th>\n",
       "      <th>cp</th>\n",
       "      <th>trestbps</th>\n",
       "      <th>chol</th>\n",
       "      <th>fbs</th>\n",
       "      <th>restecg</th>\n",
       "      <th>thalach</th>\n",
       "      <th>exang</th>\n",
       "      <th>oldpeak</th>\n",
       "      <th>slope</th>\n",
       "      <th>ca</th>\n",
       "      <th>thal</th>\n",
       "      <th>target</th>\n",
       "    </tr>\n",
       "  </thead>\n",
       "  <tbody>\n",
       "    <tr>\n",
       "      <th>count</th>\n",
       "      <td>303.000000</td>\n",
       "      <td>303.000000</td>\n",
       "      <td>303.000000</td>\n",
       "      <td>303.000000</td>\n",
       "      <td>303.000000</td>\n",
       "      <td>303.000000</td>\n",
       "      <td>303.000000</td>\n",
       "      <td>303.000000</td>\n",
       "      <td>303.000000</td>\n",
       "      <td>303.000000</td>\n",
       "      <td>303.000000</td>\n",
       "      <td>303.000000</td>\n",
       "      <td>303.000000</td>\n",
       "      <td>303.000000</td>\n",
       "    </tr>\n",
       "    <tr>\n",
       "      <th>mean</th>\n",
       "      <td>54.366337</td>\n",
       "      <td>0.683168</td>\n",
       "      <td>0.966997</td>\n",
       "      <td>131.623762</td>\n",
       "      <td>246.264026</td>\n",
       "      <td>0.148515</td>\n",
       "      <td>0.528053</td>\n",
       "      <td>149.646865</td>\n",
       "      <td>0.326733</td>\n",
       "      <td>1.039604</td>\n",
       "      <td>1.399340</td>\n",
       "      <td>0.729373</td>\n",
       "      <td>2.313531</td>\n",
       "      <td>0.544554</td>\n",
       "    </tr>\n",
       "    <tr>\n",
       "      <th>std</th>\n",
       "      <td>9.082101</td>\n",
       "      <td>0.466011</td>\n",
       "      <td>1.032052</td>\n",
       "      <td>17.538143</td>\n",
       "      <td>51.830751</td>\n",
       "      <td>0.356198</td>\n",
       "      <td>0.525860</td>\n",
       "      <td>22.905161</td>\n",
       "      <td>0.469794</td>\n",
       "      <td>1.161075</td>\n",
       "      <td>0.616226</td>\n",
       "      <td>1.022606</td>\n",
       "      <td>0.612277</td>\n",
       "      <td>0.498835</td>\n",
       "    </tr>\n",
       "    <tr>\n",
       "      <th>min</th>\n",
       "      <td>29.000000</td>\n",
       "      <td>0.000000</td>\n",
       "      <td>0.000000</td>\n",
       "      <td>94.000000</td>\n",
       "      <td>126.000000</td>\n",
       "      <td>0.000000</td>\n",
       "      <td>0.000000</td>\n",
       "      <td>71.000000</td>\n",
       "      <td>0.000000</td>\n",
       "      <td>0.000000</td>\n",
       "      <td>0.000000</td>\n",
       "      <td>0.000000</td>\n",
       "      <td>0.000000</td>\n",
       "      <td>0.000000</td>\n",
       "    </tr>\n",
       "    <tr>\n",
       "      <th>25%</th>\n",
       "      <td>47.500000</td>\n",
       "      <td>0.000000</td>\n",
       "      <td>0.000000</td>\n",
       "      <td>120.000000</td>\n",
       "      <td>211.000000</td>\n",
       "      <td>0.000000</td>\n",
       "      <td>0.000000</td>\n",
       "      <td>133.500000</td>\n",
       "      <td>0.000000</td>\n",
       "      <td>0.000000</td>\n",
       "      <td>1.000000</td>\n",
       "      <td>0.000000</td>\n",
       "      <td>2.000000</td>\n",
       "      <td>0.000000</td>\n",
       "    </tr>\n",
       "    <tr>\n",
       "      <th>50%</th>\n",
       "      <td>55.000000</td>\n",
       "      <td>1.000000</td>\n",
       "      <td>1.000000</td>\n",
       "      <td>130.000000</td>\n",
       "      <td>240.000000</td>\n",
       "      <td>0.000000</td>\n",
       "      <td>1.000000</td>\n",
       "      <td>153.000000</td>\n",
       "      <td>0.000000</td>\n",
       "      <td>0.800000</td>\n",
       "      <td>1.000000</td>\n",
       "      <td>0.000000</td>\n",
       "      <td>2.000000</td>\n",
       "      <td>1.000000</td>\n",
       "    </tr>\n",
       "    <tr>\n",
       "      <th>75%</th>\n",
       "      <td>61.000000</td>\n",
       "      <td>1.000000</td>\n",
       "      <td>2.000000</td>\n",
       "      <td>140.000000</td>\n",
       "      <td>274.500000</td>\n",
       "      <td>0.000000</td>\n",
       "      <td>1.000000</td>\n",
       "      <td>166.000000</td>\n",
       "      <td>1.000000</td>\n",
       "      <td>1.600000</td>\n",
       "      <td>2.000000</td>\n",
       "      <td>1.000000</td>\n",
       "      <td>3.000000</td>\n",
       "      <td>1.000000</td>\n",
       "    </tr>\n",
       "    <tr>\n",
       "      <th>max</th>\n",
       "      <td>77.000000</td>\n",
       "      <td>1.000000</td>\n",
       "      <td>3.000000</td>\n",
       "      <td>200.000000</td>\n",
       "      <td>564.000000</td>\n",
       "      <td>1.000000</td>\n",
       "      <td>2.000000</td>\n",
       "      <td>202.000000</td>\n",
       "      <td>1.000000</td>\n",
       "      <td>6.200000</td>\n",
       "      <td>2.000000</td>\n",
       "      <td>4.000000</td>\n",
       "      <td>3.000000</td>\n",
       "      <td>1.000000</td>\n",
       "    </tr>\n",
       "  </tbody>\n",
       "</table>\n",
       "</div>"
      ],
      "text/plain": [
       "              age         sex          cp    trestbps        chol         fbs  \\\n",
       "count  303.000000  303.000000  303.000000  303.000000  303.000000  303.000000   \n",
       "mean    54.366337    0.683168    0.966997  131.623762  246.264026    0.148515   \n",
       "std      9.082101    0.466011    1.032052   17.538143   51.830751    0.356198   \n",
       "min     29.000000    0.000000    0.000000   94.000000  126.000000    0.000000   \n",
       "25%     47.500000    0.000000    0.000000  120.000000  211.000000    0.000000   \n",
       "50%     55.000000    1.000000    1.000000  130.000000  240.000000    0.000000   \n",
       "75%     61.000000    1.000000    2.000000  140.000000  274.500000    0.000000   \n",
       "max     77.000000    1.000000    3.000000  200.000000  564.000000    1.000000   \n",
       "\n",
       "          restecg     thalach       exang     oldpeak       slope          ca  \\\n",
       "count  303.000000  303.000000  303.000000  303.000000  303.000000  303.000000   \n",
       "mean     0.528053  149.646865    0.326733    1.039604    1.399340    0.729373   \n",
       "std      0.525860   22.905161    0.469794    1.161075    0.616226    1.022606   \n",
       "min      0.000000   71.000000    0.000000    0.000000    0.000000    0.000000   \n",
       "25%      0.000000  133.500000    0.000000    0.000000    1.000000    0.000000   \n",
       "50%      1.000000  153.000000    0.000000    0.800000    1.000000    0.000000   \n",
       "75%      1.000000  166.000000    1.000000    1.600000    2.000000    1.000000   \n",
       "max      2.000000  202.000000    1.000000    6.200000    2.000000    4.000000   \n",
       "\n",
       "             thal      target  \n",
       "count  303.000000  303.000000  \n",
       "mean     2.313531    0.544554  \n",
       "std      0.612277    0.498835  \n",
       "min      0.000000    0.000000  \n",
       "25%      2.000000    0.000000  \n",
       "50%      2.000000    1.000000  \n",
       "75%      3.000000    1.000000  \n",
       "max      3.000000    1.000000  "
      ]
     },
     "execution_count": 68,
     "metadata": {},
     "output_type": "execute_result"
    }
   ],
   "source": [
    "data.describe()"
   ]
  },
  {
   "cell_type": "code",
   "execution_count": 69,
   "metadata": {},
   "outputs": [
    {
     "name": "stdout",
     "output_type": "stream",
     "text": [
      "<class 'pandas.core.frame.DataFrame'>\n",
      "RangeIndex: 303 entries, 0 to 302\n",
      "Data columns (total 14 columns):\n",
      " #   Column    Non-Null Count  Dtype  \n",
      "---  ------    --------------  -----  \n",
      " 0   age       303 non-null    int64  \n",
      " 1   sex       303 non-null    int64  \n",
      " 2   cp        303 non-null    int64  \n",
      " 3   trestbps  303 non-null    int64  \n",
      " 4   chol      303 non-null    int64  \n",
      " 5   fbs       303 non-null    int64  \n",
      " 6   restecg   303 non-null    int64  \n",
      " 7   thalach   303 non-null    int64  \n",
      " 8   exang     303 non-null    int64  \n",
      " 9   oldpeak   303 non-null    float64\n",
      " 10  slope     303 non-null    int64  \n",
      " 11  ca        303 non-null    int64  \n",
      " 12  thal      303 non-null    int64  \n",
      " 13  target    303 non-null    int64  \n",
      "dtypes: float64(1), int64(13)\n",
      "memory usage: 33.3 KB\n"
     ]
    }
   ],
   "source": [
    "data.info()"
   ]
  },
  {
   "cell_type": "code",
   "execution_count": 70,
   "metadata": {},
   "outputs": [
    {
     "data": {
      "text/plain": [
       "age         0\n",
       "sex         0\n",
       "cp          0\n",
       "trestbps    0\n",
       "chol        0\n",
       "fbs         0\n",
       "restecg     0\n",
       "thalach     0\n",
       "exang       0\n",
       "oldpeak     0\n",
       "slope       0\n",
       "ca          0\n",
       "thal        0\n",
       "target      0\n",
       "dtype: int64"
      ]
     },
     "execution_count": 70,
     "metadata": {},
     "output_type": "execute_result"
    }
   ],
   "source": [
    "data.isnull().sum()"
   ]
  },
  {
   "cell_type": "code",
   "execution_count": 71,
   "metadata": {},
   "outputs": [
    {
     "data": {
      "text/html": [
       "<div>\n",
       "<style scoped>\n",
       "    .dataframe tbody tr th:only-of-type {\n",
       "        vertical-align: middle;\n",
       "    }\n",
       "\n",
       "    .dataframe tbody tr th {\n",
       "        vertical-align: top;\n",
       "    }\n",
       "\n",
       "    .dataframe thead th {\n",
       "        text-align: right;\n",
       "    }\n",
       "</style>\n",
       "<table border=\"1\" class=\"dataframe\">\n",
       "  <thead>\n",
       "    <tr style=\"text-align: right;\">\n",
       "      <th></th>\n",
       "      <th>age</th>\n",
       "      <th>sex</th>\n",
       "      <th>cp</th>\n",
       "      <th>trestbps</th>\n",
       "      <th>chol</th>\n",
       "      <th>fbs</th>\n",
       "      <th>restecg</th>\n",
       "      <th>thalach</th>\n",
       "      <th>exang</th>\n",
       "      <th>oldpeak</th>\n",
       "      <th>slope</th>\n",
       "      <th>ca</th>\n",
       "      <th>thal</th>\n",
       "      <th>target</th>\n",
       "    </tr>\n",
       "  </thead>\n",
       "  <tbody>\n",
       "    <tr>\n",
       "      <th>age</th>\n",
       "      <td>1.000000</td>\n",
       "      <td>-0.098447</td>\n",
       "      <td>-0.068653</td>\n",
       "      <td>0.279351</td>\n",
       "      <td>0.213678</td>\n",
       "      <td>0.121308</td>\n",
       "      <td>-0.116211</td>\n",
       "      <td>-0.398522</td>\n",
       "      <td>0.096801</td>\n",
       "      <td>0.210013</td>\n",
       "      <td>-0.168814</td>\n",
       "      <td>0.276326</td>\n",
       "      <td>0.068001</td>\n",
       "      <td>-0.225439</td>\n",
       "    </tr>\n",
       "    <tr>\n",
       "      <th>sex</th>\n",
       "      <td>-0.098447</td>\n",
       "      <td>1.000000</td>\n",
       "      <td>-0.049353</td>\n",
       "      <td>-0.056769</td>\n",
       "      <td>-0.197912</td>\n",
       "      <td>0.045032</td>\n",
       "      <td>-0.058196</td>\n",
       "      <td>-0.044020</td>\n",
       "      <td>0.141664</td>\n",
       "      <td>0.096093</td>\n",
       "      <td>-0.030711</td>\n",
       "      <td>0.118261</td>\n",
       "      <td>0.210041</td>\n",
       "      <td>-0.280937</td>\n",
       "    </tr>\n",
       "    <tr>\n",
       "      <th>cp</th>\n",
       "      <td>-0.068653</td>\n",
       "      <td>-0.049353</td>\n",
       "      <td>1.000000</td>\n",
       "      <td>0.047608</td>\n",
       "      <td>-0.076904</td>\n",
       "      <td>0.094444</td>\n",
       "      <td>0.044421</td>\n",
       "      <td>0.295762</td>\n",
       "      <td>-0.394280</td>\n",
       "      <td>-0.149230</td>\n",
       "      <td>0.119717</td>\n",
       "      <td>-0.181053</td>\n",
       "      <td>-0.161736</td>\n",
       "      <td>0.433798</td>\n",
       "    </tr>\n",
       "    <tr>\n",
       "      <th>trestbps</th>\n",
       "      <td>0.279351</td>\n",
       "      <td>-0.056769</td>\n",
       "      <td>0.047608</td>\n",
       "      <td>1.000000</td>\n",
       "      <td>0.123174</td>\n",
       "      <td>0.177531</td>\n",
       "      <td>-0.114103</td>\n",
       "      <td>-0.046698</td>\n",
       "      <td>0.067616</td>\n",
       "      <td>0.193216</td>\n",
       "      <td>-0.121475</td>\n",
       "      <td>0.101389</td>\n",
       "      <td>0.062210</td>\n",
       "      <td>-0.144931</td>\n",
       "    </tr>\n",
       "    <tr>\n",
       "      <th>chol</th>\n",
       "      <td>0.213678</td>\n",
       "      <td>-0.197912</td>\n",
       "      <td>-0.076904</td>\n",
       "      <td>0.123174</td>\n",
       "      <td>1.000000</td>\n",
       "      <td>0.013294</td>\n",
       "      <td>-0.151040</td>\n",
       "      <td>-0.009940</td>\n",
       "      <td>0.067023</td>\n",
       "      <td>0.053952</td>\n",
       "      <td>-0.004038</td>\n",
       "      <td>0.070511</td>\n",
       "      <td>0.098803</td>\n",
       "      <td>-0.085239</td>\n",
       "    </tr>\n",
       "    <tr>\n",
       "      <th>fbs</th>\n",
       "      <td>0.121308</td>\n",
       "      <td>0.045032</td>\n",
       "      <td>0.094444</td>\n",
       "      <td>0.177531</td>\n",
       "      <td>0.013294</td>\n",
       "      <td>1.000000</td>\n",
       "      <td>-0.084189</td>\n",
       "      <td>-0.008567</td>\n",
       "      <td>0.025665</td>\n",
       "      <td>0.005747</td>\n",
       "      <td>-0.059894</td>\n",
       "      <td>0.137979</td>\n",
       "      <td>-0.032019</td>\n",
       "      <td>-0.028046</td>\n",
       "    </tr>\n",
       "    <tr>\n",
       "      <th>restecg</th>\n",
       "      <td>-0.116211</td>\n",
       "      <td>-0.058196</td>\n",
       "      <td>0.044421</td>\n",
       "      <td>-0.114103</td>\n",
       "      <td>-0.151040</td>\n",
       "      <td>-0.084189</td>\n",
       "      <td>1.000000</td>\n",
       "      <td>0.044123</td>\n",
       "      <td>-0.070733</td>\n",
       "      <td>-0.058770</td>\n",
       "      <td>0.093045</td>\n",
       "      <td>-0.072042</td>\n",
       "      <td>-0.011981</td>\n",
       "      <td>0.137230</td>\n",
       "    </tr>\n",
       "    <tr>\n",
       "      <th>thalach</th>\n",
       "      <td>-0.398522</td>\n",
       "      <td>-0.044020</td>\n",
       "      <td>0.295762</td>\n",
       "      <td>-0.046698</td>\n",
       "      <td>-0.009940</td>\n",
       "      <td>-0.008567</td>\n",
       "      <td>0.044123</td>\n",
       "      <td>1.000000</td>\n",
       "      <td>-0.378812</td>\n",
       "      <td>-0.344187</td>\n",
       "      <td>0.386784</td>\n",
       "      <td>-0.213177</td>\n",
       "      <td>-0.096439</td>\n",
       "      <td>0.421741</td>\n",
       "    </tr>\n",
       "    <tr>\n",
       "      <th>exang</th>\n",
       "      <td>0.096801</td>\n",
       "      <td>0.141664</td>\n",
       "      <td>-0.394280</td>\n",
       "      <td>0.067616</td>\n",
       "      <td>0.067023</td>\n",
       "      <td>0.025665</td>\n",
       "      <td>-0.070733</td>\n",
       "      <td>-0.378812</td>\n",
       "      <td>1.000000</td>\n",
       "      <td>0.288223</td>\n",
       "      <td>-0.257748</td>\n",
       "      <td>0.115739</td>\n",
       "      <td>0.206754</td>\n",
       "      <td>-0.436757</td>\n",
       "    </tr>\n",
       "    <tr>\n",
       "      <th>oldpeak</th>\n",
       "      <td>0.210013</td>\n",
       "      <td>0.096093</td>\n",
       "      <td>-0.149230</td>\n",
       "      <td>0.193216</td>\n",
       "      <td>0.053952</td>\n",
       "      <td>0.005747</td>\n",
       "      <td>-0.058770</td>\n",
       "      <td>-0.344187</td>\n",
       "      <td>0.288223</td>\n",
       "      <td>1.000000</td>\n",
       "      <td>-0.577537</td>\n",
       "      <td>0.222682</td>\n",
       "      <td>0.210244</td>\n",
       "      <td>-0.430696</td>\n",
       "    </tr>\n",
       "    <tr>\n",
       "      <th>slope</th>\n",
       "      <td>-0.168814</td>\n",
       "      <td>-0.030711</td>\n",
       "      <td>0.119717</td>\n",
       "      <td>-0.121475</td>\n",
       "      <td>-0.004038</td>\n",
       "      <td>-0.059894</td>\n",
       "      <td>0.093045</td>\n",
       "      <td>0.386784</td>\n",
       "      <td>-0.257748</td>\n",
       "      <td>-0.577537</td>\n",
       "      <td>1.000000</td>\n",
       "      <td>-0.080155</td>\n",
       "      <td>-0.104764</td>\n",
       "      <td>0.345877</td>\n",
       "    </tr>\n",
       "    <tr>\n",
       "      <th>ca</th>\n",
       "      <td>0.276326</td>\n",
       "      <td>0.118261</td>\n",
       "      <td>-0.181053</td>\n",
       "      <td>0.101389</td>\n",
       "      <td>0.070511</td>\n",
       "      <td>0.137979</td>\n",
       "      <td>-0.072042</td>\n",
       "      <td>-0.213177</td>\n",
       "      <td>0.115739</td>\n",
       "      <td>0.222682</td>\n",
       "      <td>-0.080155</td>\n",
       "      <td>1.000000</td>\n",
       "      <td>0.151832</td>\n",
       "      <td>-0.391724</td>\n",
       "    </tr>\n",
       "    <tr>\n",
       "      <th>thal</th>\n",
       "      <td>0.068001</td>\n",
       "      <td>0.210041</td>\n",
       "      <td>-0.161736</td>\n",
       "      <td>0.062210</td>\n",
       "      <td>0.098803</td>\n",
       "      <td>-0.032019</td>\n",
       "      <td>-0.011981</td>\n",
       "      <td>-0.096439</td>\n",
       "      <td>0.206754</td>\n",
       "      <td>0.210244</td>\n",
       "      <td>-0.104764</td>\n",
       "      <td>0.151832</td>\n",
       "      <td>1.000000</td>\n",
       "      <td>-0.344029</td>\n",
       "    </tr>\n",
       "    <tr>\n",
       "      <th>target</th>\n",
       "      <td>-0.225439</td>\n",
       "      <td>-0.280937</td>\n",
       "      <td>0.433798</td>\n",
       "      <td>-0.144931</td>\n",
       "      <td>-0.085239</td>\n",
       "      <td>-0.028046</td>\n",
       "      <td>0.137230</td>\n",
       "      <td>0.421741</td>\n",
       "      <td>-0.436757</td>\n",
       "      <td>-0.430696</td>\n",
       "      <td>0.345877</td>\n",
       "      <td>-0.391724</td>\n",
       "      <td>-0.344029</td>\n",
       "      <td>1.000000</td>\n",
       "    </tr>\n",
       "  </tbody>\n",
       "</table>\n",
       "</div>"
      ],
      "text/plain": [
       "               age       sex        cp  trestbps      chol       fbs  \\\n",
       "age       1.000000 -0.098447 -0.068653  0.279351  0.213678  0.121308   \n",
       "sex      -0.098447  1.000000 -0.049353 -0.056769 -0.197912  0.045032   \n",
       "cp       -0.068653 -0.049353  1.000000  0.047608 -0.076904  0.094444   \n",
       "trestbps  0.279351 -0.056769  0.047608  1.000000  0.123174  0.177531   \n",
       "chol      0.213678 -0.197912 -0.076904  0.123174  1.000000  0.013294   \n",
       "fbs       0.121308  0.045032  0.094444  0.177531  0.013294  1.000000   \n",
       "restecg  -0.116211 -0.058196  0.044421 -0.114103 -0.151040 -0.084189   \n",
       "thalach  -0.398522 -0.044020  0.295762 -0.046698 -0.009940 -0.008567   \n",
       "exang     0.096801  0.141664 -0.394280  0.067616  0.067023  0.025665   \n",
       "oldpeak   0.210013  0.096093 -0.149230  0.193216  0.053952  0.005747   \n",
       "slope    -0.168814 -0.030711  0.119717 -0.121475 -0.004038 -0.059894   \n",
       "ca        0.276326  0.118261 -0.181053  0.101389  0.070511  0.137979   \n",
       "thal      0.068001  0.210041 -0.161736  0.062210  0.098803 -0.032019   \n",
       "target   -0.225439 -0.280937  0.433798 -0.144931 -0.085239 -0.028046   \n",
       "\n",
       "           restecg   thalach     exang   oldpeak     slope        ca  \\\n",
       "age      -0.116211 -0.398522  0.096801  0.210013 -0.168814  0.276326   \n",
       "sex      -0.058196 -0.044020  0.141664  0.096093 -0.030711  0.118261   \n",
       "cp        0.044421  0.295762 -0.394280 -0.149230  0.119717 -0.181053   \n",
       "trestbps -0.114103 -0.046698  0.067616  0.193216 -0.121475  0.101389   \n",
       "chol     -0.151040 -0.009940  0.067023  0.053952 -0.004038  0.070511   \n",
       "fbs      -0.084189 -0.008567  0.025665  0.005747 -0.059894  0.137979   \n",
       "restecg   1.000000  0.044123 -0.070733 -0.058770  0.093045 -0.072042   \n",
       "thalach   0.044123  1.000000 -0.378812 -0.344187  0.386784 -0.213177   \n",
       "exang    -0.070733 -0.378812  1.000000  0.288223 -0.257748  0.115739   \n",
       "oldpeak  -0.058770 -0.344187  0.288223  1.000000 -0.577537  0.222682   \n",
       "slope     0.093045  0.386784 -0.257748 -0.577537  1.000000 -0.080155   \n",
       "ca       -0.072042 -0.213177  0.115739  0.222682 -0.080155  1.000000   \n",
       "thal     -0.011981 -0.096439  0.206754  0.210244 -0.104764  0.151832   \n",
       "target    0.137230  0.421741 -0.436757 -0.430696  0.345877 -0.391724   \n",
       "\n",
       "              thal    target  \n",
       "age       0.068001 -0.225439  \n",
       "sex       0.210041 -0.280937  \n",
       "cp       -0.161736  0.433798  \n",
       "trestbps  0.062210 -0.144931  \n",
       "chol      0.098803 -0.085239  \n",
       "fbs      -0.032019 -0.028046  \n",
       "restecg  -0.011981  0.137230  \n",
       "thalach  -0.096439  0.421741  \n",
       "exang     0.206754 -0.436757  \n",
       "oldpeak   0.210244 -0.430696  \n",
       "slope    -0.104764  0.345877  \n",
       "ca        0.151832 -0.391724  \n",
       "thal      1.000000 -0.344029  \n",
       "target   -0.344029  1.000000  "
      ]
     },
     "execution_count": 71,
     "metadata": {},
     "output_type": "execute_result"
    }
   ],
   "source": [
    "data.corr()"
   ]
  },
  {
   "cell_type": "code",
   "execution_count": 72,
   "metadata": {},
   "outputs": [],
   "source": [
    "X = data.drop('target', axis='columns')\n",
    "y = data.target"
   ]
  },
  {
   "cell_type": "code",
   "execution_count": 73,
   "metadata": {},
   "outputs": [
    {
     "data": {
      "text/plain": [
       "(303, 13)"
      ]
     },
     "execution_count": 73,
     "metadata": {},
     "output_type": "execute_result"
    }
   ],
   "source": [
    "X.shape"
   ]
  },
  {
   "cell_type": "code",
   "execution_count": 74,
   "metadata": {},
   "outputs": [
    {
     "data": {
      "text/plain": [
       "(303,)"
      ]
     },
     "execution_count": 74,
     "metadata": {},
     "output_type": "execute_result"
    }
   ],
   "source": [
    "y.shape"
   ]
  },
  {
   "cell_type": "code",
   "execution_count": 75,
   "metadata": {},
   "outputs": [],
   "source": [
    "from sklearn.model_selection import train_test_split\n",
    "X_train, X_test, y_train, y_test = train_test_split(X, y, test_size=0.2, random_state=1)"
   ]
  },
  {
   "cell_type": "code",
   "execution_count": 76,
   "metadata": {},
   "outputs": [
    {
     "data": {
      "text/plain": [
       "(242, 13)"
      ]
     },
     "execution_count": 76,
     "metadata": {},
     "output_type": "execute_result"
    }
   ],
   "source": [
    "X_train.shape"
   ]
  },
  {
   "cell_type": "code",
   "execution_count": 77,
   "metadata": {},
   "outputs": [
    {
     "data": {
      "text/plain": [
       "(61, 13)"
      ]
     },
     "execution_count": 77,
     "metadata": {},
     "output_type": "execute_result"
    }
   ],
   "source": [
    "X_test.shape"
   ]
  },
  {
   "cell_type": "markdown",
   "metadata": {},
   "source": [
    "## ANN model with keras"
   ]
  },
  {
   "cell_type": "code",
   "execution_count": null,
   "metadata": {},
   "outputs": [],
   "source": [
    "pip install keras"
   ]
  },
  {
   "cell_type": "code",
   "execution_count": null,
   "metadata": {},
   "outputs": [],
   "source": [
    "pip install tensorflow"
   ]
  },
  {
   "cell_type": "code",
   "execution_count": 80,
   "metadata": {},
   "outputs": [],
   "source": [
    "import keras\n",
    "from keras.models import Sequential\n",
    "from keras.layers import Dense, Dropout, Activation\n",
    "import matplotlib.pyplot as plt"
   ]
  },
  {
   "cell_type": "code",
   "execution_count": 81,
   "metadata": {},
   "outputs": [],
   "source": [
    "model = Sequential()\n",
    "# add first hidden layer with input diamension\n",
    "model.add(Dense(units = 128, activation='relu', kernel_initializer = 'he_uniform', input_dim = 13))\n",
    "# add second hidden layer\n",
    "model.add(Dense(units = 16, activation='relu', kernel_initializer = 'he_uniform'))\n",
    "# add output layer\n",
    "model.add(Dense(units = 1, activation = 'sigmoid', kernel_initializer = 'glorot_uniform'))"
   ]
  },
  {
   "cell_type": "code",
   "execution_count": 82,
   "metadata": {},
   "outputs": [
    {
     "name": "stdout",
     "output_type": "stream",
     "text": [
      "Epoch 1/150\n",
      "2/2 [==============================] - 0s 2ms/step - loss: 80.0820 - accuracy: 0.4512\n",
      "Epoch 2/150\n",
      "2/2 [==============================] - 0s 2ms/step - loss: 68.2664 - accuracy: 0.4329\n",
      "Epoch 3/150\n",
      "2/2 [==============================] - 0s 2ms/step - loss: 53.5674 - accuracy: 0.4486\n",
      "Epoch 4/150\n",
      "2/2 [==============================] - 0s 3ms/step - loss: 41.5016 - accuracy: 0.4460\n",
      "Epoch 5/150\n",
      "2/2 [==============================] - 0s 3ms/step - loss: 28.1632 - accuracy: 0.4616\n",
      "Epoch 6/150\n",
      "2/2 [==============================] - 0s 3ms/step - loss: 15.5900 - accuracy: 0.4752\n",
      "Epoch 7/150\n",
      "2/2 [==============================] - 0s 3ms/step - loss: 5.2805 - accuracy: 0.5375\n",
      "Epoch 8/150\n",
      "2/2 [==============================] - 0s 3ms/step - loss: 7.7048 - accuracy: 0.5916\n",
      "Epoch 9/150\n",
      "2/2 [==============================] - 0s 2ms/step - loss: 12.5396 - accuracy: 0.5675\n",
      "Epoch 10/150\n",
      "2/2 [==============================] - 0s 3ms/step - loss: 13.2269 - accuracy: 0.5568\n",
      "Epoch 11/150\n",
      "2/2 [==============================] - 0s 4ms/step - loss: 11.1109 - accuracy: 0.5574\n",
      "Epoch 12/150\n",
      "2/2 [==============================] - 0s 4ms/step - loss: 7.1394 - accuracy: 0.6055\n",
      "Epoch 13/150\n",
      "2/2 [==============================] - 0s 3ms/step - loss: 3.9022 - accuracy: 0.6159\n",
      "Epoch 14/150\n",
      "2/2 [==============================] - 0s 3ms/step - loss: 4.9859 - accuracy: 0.5219\n",
      "Epoch 15/150\n",
      "2/2 [==============================] - 0s 3ms/step - loss: 6.5461 - accuracy: 0.4842\n",
      "Epoch 16/150\n",
      "2/2 [==============================] - 0s 3ms/step - loss: 6.2587 - accuracy: 0.5061\n",
      "Epoch 17/150\n",
      "2/2 [==============================] - 0s 3ms/step - loss: 3.9399 - accuracy: 0.5893\n",
      "Epoch 18/150\n",
      "2/2 [==============================] - 0s 3ms/step - loss: 3.1878 - accuracy: 0.6513\n",
      "Epoch 19/150\n",
      "2/2 [==============================] - 0s 3ms/step - loss: 3.9258 - accuracy: 0.6405\n",
      "Epoch 20/150\n",
      "2/2 [==============================] - 0s 3ms/step - loss: 4.0995 - accuracy: 0.6404\n",
      "Epoch 21/150\n",
      "2/2 [==============================] - 0s 6ms/step - loss: 3.6677 - accuracy: 0.6623\n",
      "Epoch 22/150\n",
      "2/2 [==============================] - 0s 3ms/step - loss: 3.0044 - accuracy: 0.6485\n",
      "Epoch 23/150\n",
      "2/2 [==============================] - 0s 3ms/step - loss: 2.5564 - accuracy: 0.6912\n",
      "Epoch 24/150\n",
      "2/2 [==============================] - 0s 2ms/step - loss: 3.1698 - accuracy: 0.6378\n",
      "Epoch 25/150\n",
      "2/2 [==============================] - 0s 3ms/step - loss: 2.9223 - accuracy: 0.6404\n",
      "Epoch 26/150\n",
      "2/2 [==============================] - 0s 3ms/step - loss: 2.7802 - accuracy: 0.6679\n",
      "Epoch 27/150\n",
      "2/2 [==============================] - 0s 3ms/step - loss: 2.3103 - accuracy: 0.6676\n",
      "Epoch 28/150\n",
      "2/2 [==============================] - 0s 3ms/step - loss: 2.4219 - accuracy: 0.6860\n",
      "Epoch 29/150\n",
      "2/2 [==============================] - 0s 6ms/step - loss: 2.5903 - accuracy: 0.6652\n",
      "Epoch 30/150\n",
      "2/2 [==============================] - 0s 4ms/step - loss: 2.3793 - accuracy: 0.6757\n",
      "Epoch 31/150\n",
      "2/2 [==============================] - 0s 5ms/step - loss: 2.1374 - accuracy: 0.6866\n",
      "Epoch 32/150\n",
      "2/2 [==============================] - 0s 5ms/step - loss: 2.0729 - accuracy: 0.6914\n",
      "Epoch 33/150\n",
      "2/2 [==============================] - 0s 8ms/step - loss: 2.2149 - accuracy: 0.6734\n",
      "Epoch 34/150\n",
      "2/2 [==============================] - 0s 4ms/step - loss: 2.1459 - accuracy: 0.6950\n",
      "Epoch 35/150\n",
      "2/2 [==============================] - 0s 5ms/step - loss: 1.8769 - accuracy: 0.7024\n",
      "Epoch 36/150\n",
      "2/2 [==============================] - 0s 4ms/step - loss: 1.8870 - accuracy: 0.6731\n",
      "Epoch 37/150\n",
      "2/2 [==============================] - 0s 4ms/step - loss: 1.8785 - accuracy: 0.6840\n",
      "Epoch 38/150\n",
      "2/2 [==============================] - 0s 4ms/step - loss: 1.7402 - accuracy: 0.6865\n",
      "Epoch 39/150\n",
      "2/2 [==============================] - 0s 3ms/step - loss: 1.7619 - accuracy: 0.6947\n",
      "Epoch 40/150\n",
      "2/2 [==============================] - 0s 4ms/step - loss: 1.6292 - accuracy: 0.6894\n",
      "Epoch 41/150\n",
      "2/2 [==============================] - 0s 4ms/step - loss: 1.6356 - accuracy: 0.6842\n",
      "Epoch 42/150\n",
      "2/2 [==============================] - 0s 3ms/step - loss: 1.4200 - accuracy: 0.6996\n",
      "Epoch 43/150\n",
      "2/2 [==============================] - ETA: 0s - loss: 1.1430 - accuracy: 0.71 - 0s 3ms/step - loss: 1.3661 - accuracy: 0.6996\n",
      "Epoch 44/150\n",
      "2/2 [==============================] - 0s 2ms/step - loss: 1.4298 - accuracy: 0.6816\n",
      "Epoch 45/150\n",
      "2/2 [==============================] - 0s 3ms/step - loss: 1.4716 - accuracy: 0.6868\n",
      "Epoch 46/150\n",
      "2/2 [==============================] - 0s 5ms/step - loss: 1.2998 - accuracy: 0.7024\n",
      "Epoch 47/150\n",
      "2/2 [==============================] - 0s 5ms/step - loss: 1.2262 - accuracy: 0.7128\n",
      "Epoch 48/150\n",
      "2/2 [==============================] - 0s 3ms/step - loss: 1.2268 - accuracy: 0.7050\n",
      "Epoch 49/150\n",
      "2/2 [==============================] - 0s 4ms/step - loss: 1.2129 - accuracy: 0.6894\n",
      "Epoch 50/150\n",
      "2/2 [==============================] - 0s 3ms/step - loss: 1.1479 - accuracy: 0.7027\n",
      "Epoch 51/150\n",
      "2/2 [==============================] - 0s 6ms/step - loss: 1.1313 - accuracy: 0.6839\n",
      "Epoch 52/150\n",
      "2/2 [==============================] - 0s 5ms/step - loss: 1.1319 - accuracy: 0.6762\n",
      "Epoch 53/150\n",
      "2/2 [==============================] - 0s 3ms/step - loss: 1.0196 - accuracy: 0.6976\n",
      "Epoch 54/150\n",
      "2/2 [==============================] - 0s 5ms/step - loss: 0.9872 - accuracy: 0.6950\n",
      "Epoch 55/150\n",
      "2/2 [==============================] - 0s 3ms/step - loss: 0.9151 - accuracy: 0.6787\n",
      "Epoch 56/150\n",
      "2/2 [==============================] - 0s 3ms/step - loss: 0.8630 - accuracy: 0.6814\n",
      "Epoch 57/150\n",
      "2/2 [==============================] - 0s 3ms/step - loss: 0.8066 - accuracy: 0.7081\n",
      "Epoch 58/150\n",
      "2/2 [==============================] - 0s 3ms/step - loss: 0.8067 - accuracy: 0.6972\n",
      "Epoch 59/150\n",
      "2/2 [==============================] - 0s 3ms/step - loss: 0.7684 - accuracy: 0.7160\n",
      "Epoch 60/150\n",
      "2/2 [==============================] - 0s 3ms/step - loss: 0.8155 - accuracy: 0.6817\n",
      "Epoch 61/150\n",
      "2/2 [==============================] - 0s 2ms/step - loss: 0.7388 - accuracy: 0.6970\n",
      "Epoch 62/150\n",
      "2/2 [==============================] - 0s 4ms/step - loss: 0.6799 - accuracy: 0.6810\n",
      "Epoch 63/150\n",
      "2/2 [==============================] - 0s 4ms/step - loss: 0.6634 - accuracy: 0.7024\n",
      "Epoch 64/150\n",
      "2/2 [==============================] - 0s 7ms/step - loss: 0.6561 - accuracy: 0.6653\n",
      "Epoch 65/150\n",
      "2/2 [==============================] - 0s 4ms/step - loss: 0.6359 - accuracy: 0.6813\n",
      "Epoch 66/150\n",
      "2/2 [==============================] - 0s 4ms/step - loss: 0.6144 - accuracy: 0.7156\n",
      "Epoch 67/150\n",
      "2/2 [==============================] - 0s 3ms/step - loss: 0.6250 - accuracy: 0.6788\n",
      "Epoch 68/150\n",
      "2/2 [==============================] - 0s 3ms/step - loss: 0.6033 - accuracy: 0.7128\n",
      "Epoch 69/150\n",
      "2/2 [==============================] - 0s 3ms/step - loss: 0.5974 - accuracy: 0.7156\n",
      "Epoch 70/150\n",
      "2/2 [==============================] - 0s 3ms/step - loss: 0.5812 - accuracy: 0.7319\n",
      "Epoch 71/150\n",
      "2/2 [==============================] - 0s 6ms/step - loss: 0.6279 - accuracy: 0.6819\n",
      "Epoch 72/150\n",
      "2/2 [==============================] - 0s 3ms/step - loss: 0.5595 - accuracy: 0.7378\n",
      "Epoch 73/150\n",
      "2/2 [==============================] - 0s 4ms/step - loss: 0.5728 - accuracy: 0.7137\n",
      "Epoch 74/150\n",
      "2/2 [==============================] - 0s 3ms/step - loss: 0.5599 - accuracy: 0.7244\n",
      "Epoch 75/150\n",
      "2/2 [==============================] - 0s 5ms/step - loss: 0.5584 - accuracy: 0.7379\n",
      "Epoch 76/150\n",
      "2/2 [==============================] - 0s 5ms/step - loss: 0.5401 - accuracy: 0.7327\n",
      "Epoch 77/150\n",
      "2/2 [==============================] - 0s 3ms/step - loss: 0.5450 - accuracy: 0.7276\n",
      "Epoch 78/150\n",
      "2/2 [==============================] - 0s 2ms/step - loss: 0.5254 - accuracy: 0.7483\n",
      "Epoch 79/150\n",
      "2/2 [==============================] - 0s 4ms/step - loss: 0.5362 - accuracy: 0.7358\n",
      "Epoch 80/150\n",
      "2/2 [==============================] - 0s 3ms/step - loss: 0.5030 - accuracy: 0.7453\n",
      "Epoch 81/150\n",
      "2/2 [==============================] - 0s 3ms/step - loss: 0.5051 - accuracy: 0.7433\n",
      "Epoch 82/150\n",
      "2/2 [==============================] - 0s 5ms/step - loss: 0.5030 - accuracy: 0.7456\n",
      "Epoch 83/150\n",
      "2/2 [==============================] - 0s 3ms/step - loss: 0.5115 - accuracy: 0.7270\n",
      "Epoch 84/150\n"
     ]
    },
    {
     "name": "stdout",
     "output_type": "stream",
     "text": [
      "2/2 [==============================] - 0s 5ms/step - loss: 0.4889 - accuracy: 0.7590\n",
      "Epoch 85/150\n",
      "2/2 [==============================] - 0s 5ms/step - loss: 0.4978 - accuracy: 0.7459\n",
      "Epoch 86/150\n",
      "2/2 [==============================] - 0s 3ms/step - loss: 0.4851 - accuracy: 0.7728\n",
      "Epoch 87/150\n",
      "2/2 [==============================] - 0s 3ms/step - loss: 0.4881 - accuracy: 0.7567\n",
      "Epoch 88/150\n",
      "2/2 [==============================] - 0s 3ms/step - loss: 0.4965 - accuracy: 0.7624\n",
      "Epoch 89/150\n",
      "2/2 [==============================] - 0s 3ms/step - loss: 0.4819 - accuracy: 0.7649\n",
      "Epoch 90/150\n",
      "2/2 [==============================] - 0s 3ms/step - loss: 0.4763 - accuracy: 0.7592\n",
      "Epoch 91/150\n",
      "2/2 [==============================] - 0s 3ms/step - loss: 0.4581 - accuracy: 0.7779\n",
      "Epoch 92/150\n",
      "2/2 [==============================] - 0s 3ms/step - loss: 0.4875 - accuracy: 0.7462\n",
      "Epoch 93/150\n",
      "2/2 [==============================] - 0s 3ms/step - loss: 0.4804 - accuracy: 0.7730\n",
      "Epoch 94/150\n",
      "2/2 [==============================] - 0s 3ms/step - loss: 0.4780 - accuracy: 0.7782\n",
      "Epoch 95/150\n",
      "2/2 [==============================] - 0s 2ms/step - loss: 0.4669 - accuracy: 0.7509\n",
      "Epoch 96/150\n",
      "2/2 [==============================] - 0s 2ms/step - loss: 0.4667 - accuracy: 0.7645\n",
      "Epoch 97/150\n",
      "2/2 [==============================] - 0s 2ms/step - loss: 0.4916 - accuracy: 0.7860\n",
      "Epoch 98/150\n",
      "2/2 [==============================] - 0s 4ms/step - loss: 0.4796 - accuracy: 0.7492\n",
      "Epoch 99/150\n",
      "2/2 [==============================] - 0s 5ms/step - loss: 0.4762 - accuracy: 0.7731\n",
      "Epoch 100/150\n",
      "2/2 [==============================] - 0s 3ms/step - loss: 0.4756 - accuracy: 0.7590\n",
      "Epoch 101/150\n",
      "2/2 [==============================] - 0s 3ms/step - loss: 0.4651 - accuracy: 0.7753\n",
      "Epoch 102/150\n",
      "2/2 [==============================] - 0s 2ms/step - loss: 0.4653 - accuracy: 0.7806\n",
      "Epoch 103/150\n",
      "2/2 [==============================] - 0s 4ms/step - loss: 0.4796 - accuracy: 0.7489\n",
      "Epoch 104/150\n",
      "2/2 [==============================] - 0s 3ms/step - loss: 0.4579 - accuracy: 0.7916\n",
      "Epoch 105/150\n",
      "2/2 [==============================] - 0s 4ms/step - loss: 0.4512 - accuracy: 0.7944\n",
      "Epoch 106/150\n",
      "2/2 [==============================] - 0s 6ms/step - loss: 0.4528 - accuracy: 0.7998\n",
      "Epoch 107/150\n",
      "2/2 [==============================] - 0s 3ms/step - loss: 0.4566 - accuracy: 0.7806\n",
      "Epoch 108/150\n",
      "2/2 [==============================] - 0s 3ms/step - loss: 0.4728 - accuracy: 0.7682\n",
      "Epoch 109/150\n",
      "2/2 [==============================] - 0s 2ms/step - loss: 0.4523 - accuracy: 0.8080\n",
      "Epoch 110/150\n",
      "2/2 [==============================] - 0s 4ms/step - loss: 0.4707 - accuracy: 0.7655\n",
      "Epoch 111/150\n",
      "2/2 [==============================] - 0s 4ms/step - loss: 0.4357 - accuracy: 0.8108\n",
      "Epoch 112/150\n",
      "2/2 [==============================] - 0s 3ms/step - loss: 0.4357 - accuracy: 0.7970\n",
      "Epoch 113/150\n",
      "2/2 [==============================] - 0s 3ms/step - loss: 0.4321 - accuracy: 0.7869\n",
      "Epoch 114/150\n",
      "2/2 [==============================] - 0s 4ms/step - loss: 0.4581 - accuracy: 0.8056\n",
      "Epoch 115/150\n",
      "2/2 [==============================] - 0s 2ms/step - loss: 0.4125 - accuracy: 0.8238\n",
      "Epoch 116/150\n",
      "2/2 [==============================] - 0s 3ms/step - loss: 0.4360 - accuracy: 0.8080\n",
      "Epoch 117/150\n",
      "2/2 [==============================] - 0s 2ms/step - loss: 0.4308 - accuracy: 0.7921\n",
      "Epoch 118/150\n",
      "2/2 [==============================] - 0s 3ms/step - loss: 0.4449 - accuracy: 0.7922\n",
      "Epoch 119/150\n",
      "2/2 [==============================] - 0s 3ms/step - loss: 0.4256 - accuracy: 0.8105\n",
      "Epoch 120/150\n",
      "2/2 [==============================] - 0s 4ms/step - loss: 0.4103 - accuracy: 0.8077\n",
      "Epoch 121/150\n",
      "2/2 [==============================] - 0s 4ms/step - loss: 0.4309 - accuracy: 0.8002\n",
      "Epoch 122/150\n",
      "2/2 [==============================] - 0s 3ms/step - loss: 0.4225 - accuracy: 0.8163\n",
      "Epoch 123/150\n",
      "2/2 [==============================] - 0s 3ms/step - loss: 0.4332 - accuracy: 0.7915\n",
      "Epoch 124/150\n",
      "2/2 [==============================] - 0s 3ms/step - loss: 0.4276 - accuracy: 0.7942\n",
      "Epoch 125/150\n",
      "2/2 [==============================] - 0s 3ms/step - loss: 0.4817 - accuracy: 0.7754\n",
      "Epoch 126/150\n",
      "2/2 [==============================] - 0s 2ms/step - loss: 0.4166 - accuracy: 0.8099\n",
      "Epoch 127/150\n",
      "2/2 [==============================] - 0s 3ms/step - loss: 0.4247 - accuracy: 0.7811\n",
      "Epoch 128/150\n",
      "2/2 [==============================] - 0s 3ms/step - loss: 0.4425 - accuracy: 0.7808\n",
      "Epoch 129/150\n",
      "2/2 [==============================] - 0s 3ms/step - loss: 0.4472 - accuracy: 0.7756\n",
      "Epoch 130/150\n",
      "2/2 [==============================] - 0s 2ms/step - loss: 0.4083 - accuracy: 0.8102\n",
      "Epoch 131/150\n",
      "2/2 [==============================] - 0s 3ms/step - loss: 0.4347 - accuracy: 0.7733\n",
      "Epoch 132/150\n",
      "2/2 [==============================] - 0s 3ms/step - loss: 0.3937 - accuracy: 0.8269\n",
      "Epoch 133/150\n",
      "2/2 [==============================] - 0s 2ms/step - loss: 0.4219 - accuracy: 0.8059\n",
      "Epoch 134/150\n",
      "2/2 [==============================] - 0s 2ms/step - loss: 0.4095 - accuracy: 0.8299\n",
      "Epoch 135/150\n",
      "2/2 [==============================] - 0s 3ms/step - loss: 0.4409 - accuracy: 0.8270\n",
      "Epoch 136/150\n",
      "2/2 [==============================] - 0s 3ms/step - loss: 0.4148 - accuracy: 0.7896\n",
      "Epoch 137/150\n",
      "2/2 [==============================] - 0s 2ms/step - loss: 0.4206 - accuracy: 0.8193\n",
      "Epoch 138/150\n",
      "2/2 [==============================] - 0s 2ms/step - loss: 0.4084 - accuracy: 0.8186\n",
      "Epoch 139/150\n",
      "2/2 [==============================] - 0s 3ms/step - loss: 0.4071 - accuracy: 0.8296\n",
      "Epoch 140/150\n",
      "2/2 [==============================] - 0s 3ms/step - loss: 0.3841 - accuracy: 0.8405\n",
      "Epoch 141/150\n",
      "2/2 [==============================] - 0s 3ms/step - loss: 0.4045 - accuracy: 0.8187\n",
      "Epoch 142/150\n",
      "2/2 [==============================] - 0s 3ms/step - loss: 0.4215 - accuracy: 0.8036\n",
      "Epoch 143/150\n",
      "2/2 [==============================] - 0s 4ms/step - loss: 0.4057 - accuracy: 0.8134\n",
      "Epoch 144/150\n",
      "2/2 [==============================] - 0s 2ms/step - loss: 0.4142 - accuracy: 0.8138\n",
      "Epoch 145/150\n",
      "2/2 [==============================] - 0s 3ms/step - loss: 0.3853 - accuracy: 0.8379\n",
      "Epoch 146/150\n",
      "2/2 [==============================] - 0s 3ms/step - loss: 0.3877 - accuracy: 0.8213\n",
      "Epoch 147/150\n",
      "2/2 [==============================] - 0s 2ms/step - loss: 0.3906 - accuracy: 0.8299\n",
      "Epoch 148/150\n",
      "2/2 [==============================] - 0s 2ms/step - loss: 0.3763 - accuracy: 0.8244\n",
      "Epoch 149/150\n",
      "2/2 [==============================] - 0s 2ms/step - loss: 0.3883 - accuracy: 0.8380\n",
      "Epoch 150/150\n",
      "2/2 [==============================] - 0s 3ms/step - loss: 0.3782 - accuracy: 0.8379\n"
     ]
    },
    {
     "data": {
      "text/plain": [
       "<tensorflow.python.keras.callbacks.History at 0x7fc3d1e39550>"
      ]
     },
     "execution_count": 82,
     "metadata": {},
     "output_type": "execute_result"
    }
   ],
   "source": [
    "# now we compile the model\n",
    "model.compile(optimizer = 'adam', loss = 'binary_crossentropy', metrics = ['accuracy'])\n",
    "# train the model\n",
    "model.fit(X_train, y_train, batch_size = 128, epochs = 150, verbose = 1)"
   ]
  },
  {
   "cell_type": "code",
   "execution_count": 83,
   "metadata": {},
   "outputs": [
    {
     "name": "stdout",
     "output_type": "stream",
     "text": [
      "2/2 [==============================] - 0s 2ms/step - loss: 0.5784 - accuracy: 0.6885\n"
     ]
    }
   ],
   "source": [
    "acc = model.evaluate(X_test, y_test)"
   ]
  },
  {
   "cell_type": "code",
   "execution_count": 84,
   "metadata": {},
   "outputs": [
    {
     "name": "stdout",
     "output_type": "stream",
     "text": [
      "Model: \"sequential\"\n",
      "_________________________________________________________________\n",
      "Layer (type)                 Output Shape              Param #   \n",
      "=================================================================\n",
      "dense (Dense)                (None, 128)               1792      \n",
      "_________________________________________________________________\n",
      "dense_1 (Dense)              (None, 16)                2064      \n",
      "_________________________________________________________________\n",
      "dense_2 (Dense)              (None, 1)                 17        \n",
      "=================================================================\n",
      "Total params: 3,873\n",
      "Trainable params: 3,873\n",
      "Non-trainable params: 0\n",
      "_________________________________________________________________\n"
     ]
    }
   ],
   "source": [
    "model.summary()\n"
   ]
  },
  {
   "cell_type": "code",
   "execution_count": 85,
   "metadata": {},
   "outputs": [],
   "source": [
    "y_ann = model.predict(X_test)\n",
    "y_ann = y_ann > 0.5"
   ]
  },
  {
   "cell_type": "code",
   "execution_count": 86,
   "metadata": {},
   "outputs": [
    {
     "data": {
      "text/plain": [
       "array([[18,  7],\n",
       "       [12, 24]])"
      ]
     },
     "execution_count": 86,
     "metadata": {},
     "output_type": "execute_result"
    }
   ],
   "source": [
    "from sklearn.metrics import confusion_matrix\n",
    "cm = confusion_matrix(y_ann, y_test)\n",
    "cm"
   ]
  }
 ],
 "metadata": {
  "kernelspec": {
   "display_name": "Python 3",
   "language": "python",
   "name": "python3"
  },
  "language_info": {
   "codemirror_mode": {
    "name": "ipython",
    "version": 3
   },
   "file_extension": ".py",
   "mimetype": "text/x-python",
   "name": "python",
   "nbconvert_exporter": "python",
   "pygments_lexer": "ipython3",
   "version": "3.7.6"
  }
 },
 "nbformat": 4,
 "nbformat_minor": 4
}
