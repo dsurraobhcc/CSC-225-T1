{
 "cells": [
  {
   "cell_type": "markdown",
   "metadata": {},
   "source": [
    "# Statistics\n",
    "## Descriptive Statistics\n",
    "    ## Univariate\n",
    "    ## Multivariate\n",
    "    ## Bivariate\n",
    "\n",
    "\n",
    "## Inferential Statistics\n",
    "    ## Hypothesis Testing\n",
    "    ## Model Fitting"
   ]
  },
  {
   "cell_type": "markdown",
   "metadata": {},
   "source": [
    "### Univariate\n",
    "   #### Frequency /Frequency Tables/Histograms \n",
    "   #### Dispersion Range/Inter-quartile Range/Std Deviation/ Variance\n",
    "   #### Central Tendency /Average(Mean)/Median/Mode/Geometric Mean/Harmonic Mean"
   ]
  },
  {
   "cell_type": "code",
   "execution_count": 1,
   "metadata": {},
   "outputs": [],
   "source": [
    "import matplotlib\n",
    "import pandas as pd\n",
    "\n",
    "import matplotlib.pyplot as plt"
   ]
  },
  {
   "cell_type": "code",
   "execution_count": 2,
   "metadata": {},
   "outputs": [
    {
     "data": {
      "text/plain": [
       "'3.2.2'"
      ]
     },
     "execution_count": 2,
     "metadata": {},
     "output_type": "execute_result"
    }
   ],
   "source": [
    "matplotlib.__version__"
   ]
  },
  {
   "cell_type": "code",
   "execution_count": 3,
   "metadata": {},
   "outputs": [
    {
     "data": {
      "text/plain": [
       "'1.2.0'"
      ]
     },
     "execution_count": 3,
     "metadata": {},
     "output_type": "execute_result"
    }
   ],
   "source": [
    "pd.__version__"
   ]
  },
  {
   "cell_type": "code",
   "execution_count": 4,
   "metadata": {},
   "outputs": [],
   "source": [
    "crude_oil_data = pd.read_csv('data/U.S._crude_oil_production.csv')"
   ]
  },
  {
   "cell_type": "code",
   "execution_count": 5,
   "metadata": {},
   "outputs": [
    {
     "data": {
      "text/html": [
       "<div>\n",
       "<style scoped>\n",
       "    .dataframe tbody tr th:only-of-type {\n",
       "        vertical-align: middle;\n",
       "    }\n",
       "\n",
       "    .dataframe tbody tr th {\n",
       "        vertical-align: top;\n",
       "    }\n",
       "\n",
       "    .dataframe thead th {\n",
       "        text-align: right;\n",
       "    }\n",
       "</style>\n",
       "<table border=\"1\" class=\"dataframe\">\n",
       "  <thead>\n",
       "    <tr style=\"text-align: right;\">\n",
       "      <th></th>\n",
       "      <th>Month</th>\n",
       "      <th>U.S. Crude Oil</th>\n",
       "      <th>Alabama</th>\n",
       "      <th>Alaska</th>\n",
       "      <th>Arkansas</th>\n",
       "      <th>Arizona</th>\n",
       "      <th>California</th>\n",
       "      <th>Colorado</th>\n",
       "      <th>Federal Offshore Gulf of Mexico Crude Oil</th>\n",
       "      <th>Federal Offshore Pacific Crude Oil</th>\n",
       "      <th>...</th>\n",
       "      <th>Ohio</th>\n",
       "      <th>Oklahoma</th>\n",
       "      <th>Pennsylvania</th>\n",
       "      <th>South Dakota</th>\n",
       "      <th>Wyoming</th>\n",
       "      <th>West Virginia</th>\n",
       "      <th>Virginia</th>\n",
       "      <th>Utah</th>\n",
       "      <th>Texas</th>\n",
       "      <th>Tennessee</th>\n",
       "    </tr>\n",
       "  </thead>\n",
       "  <tbody>\n",
       "    <tr>\n",
       "      <th>0</th>\n",
       "      <td>6/1/2008</td>\n",
       "      <td>5138</td>\n",
       "      <td>21</td>\n",
       "      <td>655</td>\n",
       "      <td>17</td>\n",
       "      <td>0</td>\n",
       "      <td>583</td>\n",
       "      <td>82</td>\n",
       "      <td>1326</td>\n",
       "      <td>67</td>\n",
       "      <td>...</td>\n",
       "      <td>14</td>\n",
       "      <td>186</td>\n",
       "      <td>8</td>\n",
       "      <td>5</td>\n",
       "      <td>144</td>\n",
       "      <td>6</td>\n",
       "      <td>0</td>\n",
       "      <td>60</td>\n",
       "      <td>1097</td>\n",
       "      <td>1</td>\n",
       "    </tr>\n",
       "    <tr>\n",
       "      <th>1</th>\n",
       "      <td>7/1/2008</td>\n",
       "      <td>5177</td>\n",
       "      <td>21</td>\n",
       "      <td>640</td>\n",
       "      <td>17</td>\n",
       "      <td>0</td>\n",
       "      <td>586</td>\n",
       "      <td>81</td>\n",
       "      <td>1372</td>\n",
       "      <td>61</td>\n",
       "      <td>...</td>\n",
       "      <td>14</td>\n",
       "      <td>184</td>\n",
       "      <td>8</td>\n",
       "      <td>5</td>\n",
       "      <td>145</td>\n",
       "      <td>5</td>\n",
       "      <td>0</td>\n",
       "      <td>61</td>\n",
       "      <td>1111</td>\n",
       "      <td>1</td>\n",
       "    </tr>\n",
       "    <tr>\n",
       "      <th>2</th>\n",
       "      <td>8/1/2008</td>\n",
       "      <td>5003</td>\n",
       "      <td>21</td>\n",
       "      <td>544</td>\n",
       "      <td>17</td>\n",
       "      <td>0</td>\n",
       "      <td>588</td>\n",
       "      <td>82</td>\n",
       "      <td>1272</td>\n",
       "      <td>70</td>\n",
       "      <td>...</td>\n",
       "      <td>14</td>\n",
       "      <td>188</td>\n",
       "      <td>8</td>\n",
       "      <td>5</td>\n",
       "      <td>145</td>\n",
       "      <td>6</td>\n",
       "      <td>0</td>\n",
       "      <td>62</td>\n",
       "      <td>1110</td>\n",
       "      <td>1</td>\n",
       "    </tr>\n",
       "    <tr>\n",
       "      <th>3</th>\n",
       "      <td>9/1/2008</td>\n",
       "      <td>3974</td>\n",
       "      <td>21</td>\n",
       "      <td>681</td>\n",
       "      <td>16</td>\n",
       "      <td>0</td>\n",
       "      <td>587</td>\n",
       "      <td>88</td>\n",
       "      <td>242</td>\n",
       "      <td>67</td>\n",
       "      <td>...</td>\n",
       "      <td>14</td>\n",
       "      <td>186</td>\n",
       "      <td>8</td>\n",
       "      <td>5</td>\n",
       "      <td>144</td>\n",
       "      <td>6</td>\n",
       "      <td>0</td>\n",
       "      <td>63</td>\n",
       "      <td>1055</td>\n",
       "      <td>1</td>\n",
       "    </tr>\n",
       "    <tr>\n",
       "      <th>4</th>\n",
       "      <td>10/1/2008</td>\n",
       "      <td>4738</td>\n",
       "      <td>21</td>\n",
       "      <td>716</td>\n",
       "      <td>17</td>\n",
       "      <td>0</td>\n",
       "      <td>586</td>\n",
       "      <td>86</td>\n",
       "      <td>803</td>\n",
       "      <td>66</td>\n",
       "      <td>...</td>\n",
       "      <td>14</td>\n",
       "      <td>185</td>\n",
       "      <td>8</td>\n",
       "      <td>5</td>\n",
       "      <td>145</td>\n",
       "      <td>6</td>\n",
       "      <td>0</td>\n",
       "      <td>64</td>\n",
       "      <td>1125</td>\n",
       "      <td>1</td>\n",
       "    </tr>\n",
       "  </tbody>\n",
       "</table>\n",
       "<p>5 rows × 36 columns</p>\n",
       "</div>"
      ],
      "text/plain": [
       "       Month  U.S. Crude Oil   Alabama  Alaska  Arkansas  Arizona  California  \\\n",
       "0   6/1/2008             5138       21     655        17        0         583   \n",
       "1   7/1/2008             5177       21     640        17        0         586   \n",
       "2   8/1/2008             5003       21     544        17        0         588   \n",
       "3   9/1/2008             3974       21     681        16        0         587   \n",
       "4  10/1/2008             4738       21     716        17        0         586   \n",
       "\n",
       "   Colorado  Federal Offshore Gulf of Mexico Crude Oil  \\\n",
       "0        82                                       1326   \n",
       "1        81                                       1372   \n",
       "2        82                                       1272   \n",
       "3        88                                        242   \n",
       "4        86                                        803   \n",
       "\n",
       "   Federal Offshore Pacific Crude Oil  ...  Ohio  Oklahoma  Pennsylvania  \\\n",
       "0                                  67  ...    14       186             8   \n",
       "1                                  61  ...    14       184             8   \n",
       "2                                  70  ...    14       188             8   \n",
       "3                                  67  ...    14       186             8   \n",
       "4                                  66  ...    14       185             8   \n",
       "\n",
       "   South Dakota  Wyoming  West Virginia  Virginia  Utah  Texas  Tennessee  \n",
       "0             5      144              6         0    60   1097          1  \n",
       "1             5      145              5         0    61   1111          1  \n",
       "2             5      145              6         0    62   1110          1  \n",
       "3             5      144              6         0    63   1055          1  \n",
       "4             5      145              6         0    64   1125          1  \n",
       "\n",
       "[5 rows x 36 columns]"
      ]
     },
     "execution_count": 5,
     "metadata": {},
     "output_type": "execute_result"
    }
   ],
   "source": [
    "crude_oil_data.head(5)"
   ]
  },
  {
   "cell_type": "code",
   "execution_count": 6,
   "metadata": {},
   "outputs": [
    {
     "data": {
      "text/html": [
       "<div>\n",
       "<style scoped>\n",
       "    .dataframe tbody tr th:only-of-type {\n",
       "        vertical-align: middle;\n",
       "    }\n",
       "\n",
       "    .dataframe tbody tr th {\n",
       "        vertical-align: top;\n",
       "    }\n",
       "\n",
       "    .dataframe thead th {\n",
       "        text-align: right;\n",
       "    }\n",
       "</style>\n",
       "<table border=\"1\" class=\"dataframe\">\n",
       "  <thead>\n",
       "    <tr style=\"text-align: right;\">\n",
       "      <th></th>\n",
       "      <th>Month</th>\n",
       "      <th>U.S. Crude Oil</th>\n",
       "      <th>Alabama</th>\n",
       "      <th>Alaska</th>\n",
       "      <th>Arkansas</th>\n",
       "      <th>Arizona</th>\n",
       "      <th>California</th>\n",
       "      <th>Colorado</th>\n",
       "      <th>Federal Offshore Gulf of Mexico Crude Oil</th>\n",
       "      <th>Federal Offshore Pacific Crude Oil</th>\n",
       "      <th>...</th>\n",
       "      <th>Ohio</th>\n",
       "      <th>Oklahoma</th>\n",
       "      <th>Pennsylvania</th>\n",
       "      <th>South Dakota</th>\n",
       "      <th>Wyoming</th>\n",
       "      <th>West Virginia</th>\n",
       "      <th>Virginia</th>\n",
       "      <th>Utah</th>\n",
       "      <th>Texas</th>\n",
       "      <th>Tennessee</th>\n",
       "    </tr>\n",
       "  </thead>\n",
       "  <tbody>\n",
       "    <tr>\n",
       "      <th>116</th>\n",
       "      <td>2/1/2018</td>\n",
       "      <td>10248</td>\n",
       "      <td>17</td>\n",
       "      <td>513</td>\n",
       "      <td>14</td>\n",
       "      <td>0</td>\n",
       "      <td>463</td>\n",
       "      <td>428</td>\n",
       "      <td>1704</td>\n",
       "      <td>14</td>\n",
       "      <td>...</td>\n",
       "      <td>54</td>\n",
       "      <td>527</td>\n",
       "      <td>18</td>\n",
       "      <td>4</td>\n",
       "      <td>223</td>\n",
       "      <td>27</td>\n",
       "      <td>0</td>\n",
       "      <td>100</td>\n",
       "      <td>4015</td>\n",
       "      <td>1</td>\n",
       "    </tr>\n",
       "    <tr>\n",
       "      <th>117</th>\n",
       "      <td>3/1/2018</td>\n",
       "      <td>10461</td>\n",
       "      <td>17</td>\n",
       "      <td>512</td>\n",
       "      <td>14</td>\n",
       "      <td>0</td>\n",
       "      <td>462</td>\n",
       "      <td>428</td>\n",
       "      <td>1681</td>\n",
       "      <td>16</td>\n",
       "      <td>...</td>\n",
       "      <td>54</td>\n",
       "      <td>543</td>\n",
       "      <td>18</td>\n",
       "      <td>4</td>\n",
       "      <td>231</td>\n",
       "      <td>29</td>\n",
       "      <td>0</td>\n",
       "      <td>104</td>\n",
       "      <td>4185</td>\n",
       "      <td>1</td>\n",
       "    </tr>\n",
       "    <tr>\n",
       "      <th>118</th>\n",
       "      <td>4/1/2018</td>\n",
       "      <td>10475</td>\n",
       "      <td>17</td>\n",
       "      <td>497</td>\n",
       "      <td>14</td>\n",
       "      <td>0</td>\n",
       "      <td>465</td>\n",
       "      <td>447</td>\n",
       "      <td>1583</td>\n",
       "      <td>16</td>\n",
       "      <td>...</td>\n",
       "      <td>54</td>\n",
       "      <td>531</td>\n",
       "      <td>19</td>\n",
       "      <td>4</td>\n",
       "      <td>232</td>\n",
       "      <td>29</td>\n",
       "      <td>0</td>\n",
       "      <td>103</td>\n",
       "      <td>4222</td>\n",
       "      <td>1</td>\n",
       "    </tr>\n",
       "    <tr>\n",
       "      <th>119</th>\n",
       "      <td>5/1/2018</td>\n",
       "      <td>10443</td>\n",
       "      <td>16</td>\n",
       "      <td>496</td>\n",
       "      <td>14</td>\n",
       "      <td>0</td>\n",
       "      <td>464</td>\n",
       "      <td>447</td>\n",
       "      <td>1504</td>\n",
       "      <td>15</td>\n",
       "      <td>...</td>\n",
       "      <td>58</td>\n",
       "      <td>529</td>\n",
       "      <td>19</td>\n",
       "      <td>3</td>\n",
       "      <td>228</td>\n",
       "      <td>29</td>\n",
       "      <td>0</td>\n",
       "      <td>97</td>\n",
       "      <td>4245</td>\n",
       "      <td>1</td>\n",
       "    </tr>\n",
       "    <tr>\n",
       "      <th>120</th>\n",
       "      <td>6/1/2018</td>\n",
       "      <td>10674</td>\n",
       "      <td>16</td>\n",
       "      <td>451</td>\n",
       "      <td>14</td>\n",
       "      <td>0</td>\n",
       "      <td>462</td>\n",
       "      <td>423</td>\n",
       "      <td>1658</td>\n",
       "      <td>15</td>\n",
       "      <td>...</td>\n",
       "      <td>65</td>\n",
       "      <td>526</td>\n",
       "      <td>18</td>\n",
       "      <td>4</td>\n",
       "      <td>226</td>\n",
       "      <td>30</td>\n",
       "      <td>0</td>\n",
       "      <td>94</td>\n",
       "      <td>4410</td>\n",
       "      <td>1</td>\n",
       "    </tr>\n",
       "  </tbody>\n",
       "</table>\n",
       "<p>5 rows × 36 columns</p>\n",
       "</div>"
      ],
      "text/plain": [
       "        Month  U.S. Crude Oil   Alabama  Alaska  Arkansas  Arizona  \\\n",
       "116  2/1/2018            10248       17     513        14        0   \n",
       "117  3/1/2018            10461       17     512        14        0   \n",
       "118  4/1/2018            10475       17     497        14        0   \n",
       "119  5/1/2018            10443       16     496        14        0   \n",
       "120  6/1/2018            10674       16     451        14        0   \n",
       "\n",
       "     California  Colorado  Federal Offshore Gulf of Mexico Crude Oil  \\\n",
       "116         463       428                                       1704   \n",
       "117         462       428                                       1681   \n",
       "118         465       447                                       1583   \n",
       "119         464       447                                       1504   \n",
       "120         462       423                                       1658   \n",
       "\n",
       "     Federal Offshore Pacific Crude Oil  ...  Ohio  Oklahoma  Pennsylvania  \\\n",
       "116                                  14  ...    54       527            18   \n",
       "117                                  16  ...    54       543            18   \n",
       "118                                  16  ...    54       531            19   \n",
       "119                                  15  ...    58       529            19   \n",
       "120                                  15  ...    65       526            18   \n",
       "\n",
       "     South Dakota  Wyoming  West Virginia  Virginia  Utah  Texas  Tennessee  \n",
       "116             4      223             27         0   100   4015          1  \n",
       "117             4      231             29         0   104   4185          1  \n",
       "118             4      232             29         0   103   4222          1  \n",
       "119             3      228             29         0    97   4245          1  \n",
       "120             4      226             30         0    94   4410          1  \n",
       "\n",
       "[5 rows x 36 columns]"
      ]
     },
     "execution_count": 6,
     "metadata": {},
     "output_type": "execute_result"
    }
   ],
   "source": [
    "crude_oil_data.tail(5)"
   ]
  },
  {
   "cell_type": "code",
   "execution_count": 7,
   "metadata": {},
   "outputs": [
    {
     "data": {
      "text/plain": [
       "(121, 36)"
      ]
     },
     "execution_count": 7,
     "metadata": {},
     "output_type": "execute_result"
    }
   ],
   "source": [
    "crude_oil_data.shape"
   ]
  },
  {
   "cell_type": "code",
   "execution_count": 8,
   "metadata": {},
   "outputs": [
    {
     "data": {
      "text/plain": [
       "Index(['Month', 'U.S. Crude Oil ', 'Alabama', 'Alaska', 'Arkansas', 'Arizona',\n",
       "       'California', 'Colorado', 'Federal Offshore Gulf of Mexico Crude Oil',\n",
       "       'Federal Offshore Pacific Crude Oil', 'Florida', 'Idaho', 'Illinois',\n",
       "       'Indiana', 'Kansas', 'Kentucky', 'Louisiana', 'Michigan', 'Mississippi',\n",
       "       'Missouri', 'Nebraska', 'Montana', 'Nevada', 'New Mexico', 'New York',\n",
       "       'North Dakota', 'Ohio', 'Oklahoma', 'Pennsylvania', 'South Dakota',\n",
       "       'Wyoming', 'West Virginia', 'Virginia', 'Utah', 'Texas', 'Tennessee'],\n",
       "      dtype='object')"
      ]
     },
     "execution_count": 8,
     "metadata": {},
     "output_type": "execute_result"
    }
   ],
   "source": [
    "crude_oil_data.columns"
   ]
  },
  {
   "cell_type": "code",
   "execution_count": 9,
   "metadata": {},
   "outputs": [
    {
     "data": {
      "text/plain": [
       "Index(['Arizona', 'Virginia'], dtype='object')"
      ]
     },
     "execution_count": 9,
     "metadata": {},
     "output_type": "execute_result"
    }
   ],
   "source": [
    "crude_oil_data.columns[(crude_oil_data.sum(axis=0)) == 0]"
   ]
  },
  {
   "cell_type": "code",
   "execution_count": 10,
   "metadata": {},
   "outputs": [],
   "source": [
    "crude_oil_data.drop(['Arizona', 'Virginia'], inplace=True, axis = 1)"
   ]
  },
  {
   "cell_type": "code",
   "execution_count": 11,
   "metadata": {},
   "outputs": [
    {
     "data": {
      "text/plain": [
       "Index(['Month', 'U.S. Crude Oil ', 'Alabama', 'Alaska', 'Arkansas',\n",
       "       'California', 'Colorado', 'Federal Offshore Gulf of Mexico Crude Oil',\n",
       "       'Federal Offshore Pacific Crude Oil', 'Florida', 'Idaho', 'Illinois',\n",
       "       'Indiana', 'Kansas', 'Kentucky', 'Louisiana', 'Michigan', 'Mississippi',\n",
       "       'Missouri', 'Nebraska', 'Montana', 'Nevada', 'New Mexico', 'New York',\n",
       "       'North Dakota', 'Ohio', 'Oklahoma', 'Pennsylvania', 'South Dakota',\n",
       "       'Wyoming', 'West Virginia', 'Utah', 'Texas', 'Tennessee'],\n",
       "      dtype='object')"
      ]
     },
     "execution_count": 11,
     "metadata": {},
     "output_type": "execute_result"
    }
   ],
   "source": [
    "crude_oil_data.columns"
   ]
  },
  {
   "cell_type": "code",
   "execution_count": 12,
   "metadata": {},
   "outputs": [],
   "source": [
    "crude_oil_data['Date'] = pd.to_datetime(crude_oil_data['Month'])"
   ]
  },
  {
   "cell_type": "code",
   "execution_count": 13,
   "metadata": {},
   "outputs": [
    {
     "data": {
      "text/plain": [
       "0   2008-06-01\n",
       "1   2008-07-01\n",
       "2   2008-08-01\n",
       "3   2008-09-01\n",
       "4   2008-10-01\n",
       "Name: Date, dtype: datetime64[ns]"
      ]
     },
     "execution_count": 13,
     "metadata": {},
     "output_type": "execute_result"
    }
   ],
   "source": [
    "crude_oil_data['Date'].head()"
   ]
  },
  {
   "cell_type": "code",
   "execution_count": 14,
   "metadata": {},
   "outputs": [],
   "source": [
    "crude_oil_data.drop('Month', inplace=True, axis=1)"
   ]
  },
  {
   "cell_type": "code",
   "execution_count": 15,
   "metadata": {},
   "outputs": [
    {
     "data": {
      "text/plain": [
       "Index(['U.S. Crude Oil ', 'Alabama', 'Alaska', 'Arkansas', 'California',\n",
       "       'Colorado', 'Federal Offshore Gulf of Mexico Crude Oil',\n",
       "       'Federal Offshore Pacific Crude Oil', 'Florida', 'Idaho', 'Illinois',\n",
       "       'Indiana', 'Kansas', 'Kentucky', 'Louisiana', 'Michigan', 'Mississippi',\n",
       "       'Missouri', 'Nebraska', 'Montana', 'Nevada', 'New Mexico', 'New York',\n",
       "       'North Dakota', 'Ohio', 'Oklahoma', 'Pennsylvania', 'South Dakota',\n",
       "       'Wyoming', 'West Virginia', 'Utah', 'Texas', 'Tennessee', 'Date'],\n",
       "      dtype='object')"
      ]
     },
     "execution_count": 15,
     "metadata": {},
     "output_type": "execute_result"
    }
   ],
   "source": [
    "crude_oil_data.columns"
   ]
  },
  {
   "cell_type": "code",
   "execution_count": 16,
   "metadata": {},
   "outputs": [],
   "source": [
    "crude_oil_data = crude_oil_data.rename(columns={'Federal Offshore Gulf of Mexico Crude Oil': 'Mexico',\n",
    "                                                'Federal Offshore Pacific Crude Oil': 'Pacific'})"
   ]
  },
  {
   "cell_type": "code",
   "execution_count": 17,
   "metadata": {},
   "outputs": [
    {
     "data": {
      "text/plain": [
       "Index(['U.S. Crude Oil ', 'Alabama', 'Alaska', 'Arkansas', 'California',\n",
       "       'Colorado', 'Mexico', 'Pacific', 'Florida', 'Idaho', 'Illinois',\n",
       "       'Indiana', 'Kansas', 'Kentucky', 'Louisiana', 'Michigan', 'Mississippi',\n",
       "       'Missouri', 'Nebraska', 'Montana', 'Nevada', 'New Mexico', 'New York',\n",
       "       'North Dakota', 'Ohio', 'Oklahoma', 'Pennsylvania', 'South Dakota',\n",
       "       'Wyoming', 'West Virginia', 'Utah', 'Texas', 'Tennessee', 'Date'],\n",
       "      dtype='object')"
      ]
     },
     "execution_count": 17,
     "metadata": {},
     "output_type": "execute_result"
    }
   ],
   "source": [
    "crude_oil_data.columns"
   ]
  },
  {
   "cell_type": "code",
   "execution_count": 18,
   "metadata": {},
   "outputs": [],
   "source": [
    "crude_oil_data['Year'] = crude_oil_data['Date'].dt.year"
   ]
  },
  {
   "cell_type": "code",
   "execution_count": 19,
   "metadata": {},
   "outputs": [
    {
     "data": {
      "text/plain": [
       "90     2015\n",
       "116    2018\n",
       "81     2015\n",
       "55     2013\n",
       "50     2012\n",
       "14     2009\n",
       "18     2009\n",
       "112    2017\n",
       "93     2016\n",
       "97     2016\n",
       "Name: Year, dtype: int64"
      ]
     },
     "execution_count": 19,
     "metadata": {},
     "output_type": "execute_result"
    }
   ],
   "source": [
    "crude_oil_data['Year'].sample(10)"
   ]
  },
  {
   "cell_type": "code",
   "execution_count": 20,
   "metadata": {},
   "outputs": [],
   "source": [
    "crude_oil_data['Month'] = crude_oil_data['Date'].dt.month"
   ]
  },
  {
   "cell_type": "code",
   "execution_count": 21,
   "metadata": {},
   "outputs": [
    {
     "data": {
      "text/plain": [
       "5     11\n",
       "78    12\n",
       "96     6\n",
       "14     8\n",
       "70     4\n",
       "3      9\n",
       "95     5\n",
       "17    11\n",
       "2      8\n",
       "75     9\n",
       "Name: Month, dtype: int64"
      ]
     },
     "execution_count": 21,
     "metadata": {},
     "output_type": "execute_result"
    }
   ],
   "source": [
    "crude_oil_data['Month'].sample(10)"
   ]
  },
  {
   "cell_type": "code",
   "execution_count": 22,
   "metadata": {},
   "outputs": [],
   "source": [
    "crude_oil_data.to_csv('data/crude_oil_data_processed.csv', index = False)"
   ]
  },
  {
   "cell_type": "code",
   "execution_count": 23,
   "metadata": {},
   "outputs": [
    {
     "data": {
      "text/html": [
       "<div>\n",
       "<style scoped>\n",
       "    .dataframe tbody tr th:only-of-type {\n",
       "        vertical-align: middle;\n",
       "    }\n",
       "\n",
       "    .dataframe tbody tr th {\n",
       "        vertical-align: top;\n",
       "    }\n",
       "\n",
       "    .dataframe thead th {\n",
       "        text-align: right;\n",
       "    }\n",
       "</style>\n",
       "<table border=\"1\" class=\"dataframe\">\n",
       "  <thead>\n",
       "    <tr style=\"text-align: right;\">\n",
       "      <th></th>\n",
       "      <th>U.S. Crude Oil</th>\n",
       "      <th>Alabama</th>\n",
       "      <th>Alaska</th>\n",
       "      <th>Arkansas</th>\n",
       "      <th>California</th>\n",
       "      <th>Colorado</th>\n",
       "      <th>Mexico</th>\n",
       "      <th>Pacific</th>\n",
       "      <th>Florida</th>\n",
       "      <th>Idaho</th>\n",
       "      <th>...</th>\n",
       "      <th>Oklahoma</th>\n",
       "      <th>Pennsylvania</th>\n",
       "      <th>South Dakota</th>\n",
       "      <th>Wyoming</th>\n",
       "      <th>West Virginia</th>\n",
       "      <th>Utah</th>\n",
       "      <th>Texas</th>\n",
       "      <th>Tennessee</th>\n",
       "      <th>Year</th>\n",
       "      <th>Month</th>\n",
       "    </tr>\n",
       "  </thead>\n",
       "  <tbody>\n",
       "    <tr>\n",
       "      <th>count</th>\n",
       "      <td>121.000000</td>\n",
       "      <td>121.000000</td>\n",
       "      <td>121.000000</td>\n",
       "      <td>121.000000</td>\n",
       "      <td>121.000000</td>\n",
       "      <td>121.000000</td>\n",
       "      <td>121.000000</td>\n",
       "      <td>121.000000</td>\n",
       "      <td>121.000000</td>\n",
       "      <td>121.000000</td>\n",
       "      <td>...</td>\n",
       "      <td>121.000000</td>\n",
       "      <td>121.000000</td>\n",
       "      <td>121.000000</td>\n",
       "      <td>121.000000</td>\n",
       "      <td>121.000000</td>\n",
       "      <td>121.000000</td>\n",
       "      <td>121.000000</td>\n",
       "      <td>121.0</td>\n",
       "      <td>121.000000</td>\n",
       "      <td>121.000000</td>\n",
       "    </tr>\n",
       "    <tr>\n",
       "      <th>mean</th>\n",
       "      <td>7423.694215</td>\n",
       "      <td>22.958678</td>\n",
       "      <td>540.404959</td>\n",
       "      <td>16.462810</td>\n",
       "      <td>536.388430</td>\n",
       "      <td>212.115702</td>\n",
       "      <td>1444.264463</td>\n",
       "      <td>43.115702</td>\n",
       "      <td>5.190083</td>\n",
       "      <td>0.066116</td>\n",
       "      <td>...</td>\n",
       "      <td>321.611570</td>\n",
       "      <td>13.876033</td>\n",
       "      <td>4.504132</td>\n",
       "      <td>180.429752</td>\n",
       "      <td>16.471074</td>\n",
       "      <td>85.148760</td>\n",
       "      <td>2403.826446</td>\n",
       "      <td>1.0</td>\n",
       "      <td>2012.958678</td>\n",
       "      <td>6.495868</td>\n",
       "    </tr>\n",
       "    <tr>\n",
       "      <th>std</th>\n",
       "      <td>1801.581601</td>\n",
       "      <td>3.773585</td>\n",
       "      <td>73.691879</td>\n",
       "      <td>1.483472</td>\n",
       "      <td>33.228595</td>\n",
       "      <td>117.403165</td>\n",
       "      <td>216.197200</td>\n",
       "      <td>18.735523</td>\n",
       "      <td>1.273539</td>\n",
       "      <td>0.249517</td>\n",
       "      <td>...</td>\n",
       "      <td>119.141958</td>\n",
       "      <td>4.497352</td>\n",
       "      <td>0.564564</td>\n",
       "      <td>34.097367</td>\n",
       "      <td>10.968952</td>\n",
       "      <td>16.662163</td>\n",
       "      <td>1025.413694</td>\n",
       "      <td>0.0</td>\n",
       "      <td>2.950697</td>\n",
       "      <td>3.452352</td>\n",
       "    </tr>\n",
       "    <tr>\n",
       "      <th>min</th>\n",
       "      <td>3974.000000</td>\n",
       "      <td>16.000000</td>\n",
       "      <td>398.000000</td>\n",
       "      <td>14.000000</td>\n",
       "      <td>461.000000</td>\n",
       "      <td>81.000000</td>\n",
       "      <td>242.000000</td>\n",
       "      <td>13.000000</td>\n",
       "      <td>2.000000</td>\n",
       "      <td>0.000000</td>\n",
       "      <td>...</td>\n",
       "      <td>152.000000</td>\n",
       "      <td>8.000000</td>\n",
       "      <td>3.000000</td>\n",
       "      <td>137.000000</td>\n",
       "      <td>3.000000</td>\n",
       "      <td>59.000000</td>\n",
       "      <td>1055.000000</td>\n",
       "      <td>1.0</td>\n",
       "      <td>2008.000000</td>\n",
       "      <td>1.000000</td>\n",
       "    </tr>\n",
       "    <tr>\n",
       "      <th>25%</th>\n",
       "      <td>5555.000000</td>\n",
       "      <td>20.000000</td>\n",
       "      <td>497.000000</td>\n",
       "      <td>15.000000</td>\n",
       "      <td>534.000000</td>\n",
       "      <td>97.000000</td>\n",
       "      <td>1322.000000</td>\n",
       "      <td>18.000000</td>\n",
       "      <td>5.000000</td>\n",
       "      <td>0.000000</td>\n",
       "      <td>...</td>\n",
       "      <td>201.000000</td>\n",
       "      <td>9.000000</td>\n",
       "      <td>4.000000</td>\n",
       "      <td>147.000000</td>\n",
       "      <td>6.000000</td>\n",
       "      <td>71.000000</td>\n",
       "      <td>1243.000000</td>\n",
       "      <td>1.0</td>\n",
       "      <td>2010.000000</td>\n",
       "      <td>4.000000</td>\n",
       "    </tr>\n",
       "    <tr>\n",
       "      <th>50%</th>\n",
       "      <td>7355.000000</td>\n",
       "      <td>22.000000</td>\n",
       "      <td>523.000000</td>\n",
       "      <td>16.000000</td>\n",
       "      <td>544.000000</td>\n",
       "      <td>169.000000</td>\n",
       "      <td>1452.000000</td>\n",
       "      <td>51.000000</td>\n",
       "      <td>6.000000</td>\n",
       "      <td>0.000000</td>\n",
       "      <td>...</td>\n",
       "      <td>320.000000</td>\n",
       "      <td>13.000000</td>\n",
       "      <td>5.000000</td>\n",
       "      <td>174.000000</td>\n",
       "      <td>20.000000</td>\n",
       "      <td>85.000000</td>\n",
       "      <td>2533.000000</td>\n",
       "      <td>1.0</td>\n",
       "      <td>2013.000000</td>\n",
       "      <td>6.000000</td>\n",
       "    </tr>\n",
       "    <tr>\n",
       "      <th>75%</th>\n",
       "      <td>9085.000000</td>\n",
       "      <td>26.000000</td>\n",
       "      <td>582.000000</td>\n",
       "      <td>18.000000</td>\n",
       "      <td>559.000000</td>\n",
       "      <td>320.000000</td>\n",
       "      <td>1593.000000</td>\n",
       "      <td>56.000000</td>\n",
       "      <td>6.000000</td>\n",
       "      <td>0.000000</td>\n",
       "      <td>...</td>\n",
       "      <td>433.000000</td>\n",
       "      <td>18.000000</td>\n",
       "      <td>5.000000</td>\n",
       "      <td>209.000000</td>\n",
       "      <td>25.000000</td>\n",
       "      <td>97.000000</td>\n",
       "      <td>3301.000000</td>\n",
       "      <td>1.0</td>\n",
       "      <td>2015.000000</td>\n",
       "      <td>9.000000</td>\n",
       "    </tr>\n",
       "    <tr>\n",
       "      <th>max</th>\n",
       "      <td>10674.000000</td>\n",
       "      <td>29.000000</td>\n",
       "      <td>728.000000</td>\n",
       "      <td>19.000000</td>\n",
       "      <td>588.000000</td>\n",
       "      <td>447.000000</td>\n",
       "      <td>1775.000000</td>\n",
       "      <td>70.000000</td>\n",
       "      <td>7.000000</td>\n",
       "      <td>1.000000</td>\n",
       "      <td>...</td>\n",
       "      <td>543.000000</td>\n",
       "      <td>22.000000</td>\n",
       "      <td>5.000000</td>\n",
       "      <td>251.000000</td>\n",
       "      <td>39.000000</td>\n",
       "      <td>116.000000</td>\n",
       "      <td>4410.000000</td>\n",
       "      <td>1.0</td>\n",
       "      <td>2018.000000</td>\n",
       "      <td>12.000000</td>\n",
       "    </tr>\n",
       "  </tbody>\n",
       "</table>\n",
       "<p>8 rows × 35 columns</p>\n",
       "</div>"
      ],
      "text/plain": [
       "       U.S. Crude Oil      Alabama      Alaska    Arkansas  California  \\\n",
       "count       121.000000  121.000000  121.000000  121.000000  121.000000   \n",
       "mean       7423.694215   22.958678  540.404959   16.462810  536.388430   \n",
       "std        1801.581601    3.773585   73.691879    1.483472   33.228595   \n",
       "min        3974.000000   16.000000  398.000000   14.000000  461.000000   \n",
       "25%        5555.000000   20.000000  497.000000   15.000000  534.000000   \n",
       "50%        7355.000000   22.000000  523.000000   16.000000  544.000000   \n",
       "75%        9085.000000   26.000000  582.000000   18.000000  559.000000   \n",
       "max       10674.000000   29.000000  728.000000   19.000000  588.000000   \n",
       "\n",
       "         Colorado       Mexico     Pacific     Florida       Idaho  ...  \\\n",
       "count  121.000000   121.000000  121.000000  121.000000  121.000000  ...   \n",
       "mean   212.115702  1444.264463   43.115702    5.190083    0.066116  ...   \n",
       "std    117.403165   216.197200   18.735523    1.273539    0.249517  ...   \n",
       "min     81.000000   242.000000   13.000000    2.000000    0.000000  ...   \n",
       "25%     97.000000  1322.000000   18.000000    5.000000    0.000000  ...   \n",
       "50%    169.000000  1452.000000   51.000000    6.000000    0.000000  ...   \n",
       "75%    320.000000  1593.000000   56.000000    6.000000    0.000000  ...   \n",
       "max    447.000000  1775.000000   70.000000    7.000000    1.000000  ...   \n",
       "\n",
       "         Oklahoma  Pennsylvania  South Dakota     Wyoming  West Virginia  \\\n",
       "count  121.000000    121.000000    121.000000  121.000000     121.000000   \n",
       "mean   321.611570     13.876033      4.504132  180.429752      16.471074   \n",
       "std    119.141958      4.497352      0.564564   34.097367      10.968952   \n",
       "min    152.000000      8.000000      3.000000  137.000000       3.000000   \n",
       "25%    201.000000      9.000000      4.000000  147.000000       6.000000   \n",
       "50%    320.000000     13.000000      5.000000  174.000000      20.000000   \n",
       "75%    433.000000     18.000000      5.000000  209.000000      25.000000   \n",
       "max    543.000000     22.000000      5.000000  251.000000      39.000000   \n",
       "\n",
       "             Utah        Texas  Tennessee         Year       Month  \n",
       "count  121.000000   121.000000      121.0   121.000000  121.000000  \n",
       "mean    85.148760  2403.826446        1.0  2012.958678    6.495868  \n",
       "std     16.662163  1025.413694        0.0     2.950697    3.452352  \n",
       "min     59.000000  1055.000000        1.0  2008.000000    1.000000  \n",
       "25%     71.000000  1243.000000        1.0  2010.000000    4.000000  \n",
       "50%     85.000000  2533.000000        1.0  2013.000000    6.000000  \n",
       "75%     97.000000  3301.000000        1.0  2015.000000    9.000000  \n",
       "max    116.000000  4410.000000        1.0  2018.000000   12.000000  \n",
       "\n",
       "[8 rows x 35 columns]"
      ]
     },
     "execution_count": 23,
     "metadata": {},
     "output_type": "execute_result"
    }
   ],
   "source": [
    "crude_oil_data.describe()"
   ]
  },
  {
   "cell_type": "code",
   "execution_count": 24,
   "metadata": {},
   "outputs": [],
   "source": [
    "crude_oil_data = pd.read_csv('data/crude_oil_data_processed.csv')"
   ]
  },
  {
   "cell_type": "code",
   "execution_count": 25,
   "metadata": {},
   "outputs": [
    {
     "data": {
      "text/html": [
       "<div>\n",
       "<style scoped>\n",
       "    .dataframe tbody tr th:only-of-type {\n",
       "        vertical-align: middle;\n",
       "    }\n",
       "\n",
       "    .dataframe tbody tr th {\n",
       "        vertical-align: top;\n",
       "    }\n",
       "\n",
       "    .dataframe thead th {\n",
       "        text-align: right;\n",
       "    }\n",
       "</style>\n",
       "<table border=\"1\" class=\"dataframe\">\n",
       "  <thead>\n",
       "    <tr style=\"text-align: right;\">\n",
       "      <th></th>\n",
       "      <th>U.S. Crude Oil</th>\n",
       "      <th>Alabama</th>\n",
       "      <th>Alaska</th>\n",
       "      <th>Arkansas</th>\n",
       "      <th>California</th>\n",
       "      <th>Colorado</th>\n",
       "      <th>Mexico</th>\n",
       "      <th>Pacific</th>\n",
       "      <th>Florida</th>\n",
       "      <th>Idaho</th>\n",
       "      <th>...</th>\n",
       "      <th>Pennsylvania</th>\n",
       "      <th>South Dakota</th>\n",
       "      <th>Wyoming</th>\n",
       "      <th>West Virginia</th>\n",
       "      <th>Utah</th>\n",
       "      <th>Texas</th>\n",
       "      <th>Tennessee</th>\n",
       "      <th>Date</th>\n",
       "      <th>Year</th>\n",
       "      <th>Month</th>\n",
       "    </tr>\n",
       "  </thead>\n",
       "  <tbody>\n",
       "    <tr>\n",
       "      <th>0</th>\n",
       "      <td>5138</td>\n",
       "      <td>21</td>\n",
       "      <td>655</td>\n",
       "      <td>17</td>\n",
       "      <td>583</td>\n",
       "      <td>82</td>\n",
       "      <td>1326</td>\n",
       "      <td>67</td>\n",
       "      <td>5</td>\n",
       "      <td>0</td>\n",
       "      <td>...</td>\n",
       "      <td>8</td>\n",
       "      <td>5</td>\n",
       "      <td>144</td>\n",
       "      <td>6</td>\n",
       "      <td>60</td>\n",
       "      <td>1097</td>\n",
       "      <td>1</td>\n",
       "      <td>2008-06-01</td>\n",
       "      <td>2008</td>\n",
       "      <td>6</td>\n",
       "    </tr>\n",
       "    <tr>\n",
       "      <th>1</th>\n",
       "      <td>5177</td>\n",
       "      <td>21</td>\n",
       "      <td>640</td>\n",
       "      <td>17</td>\n",
       "      <td>586</td>\n",
       "      <td>81</td>\n",
       "      <td>1372</td>\n",
       "      <td>61</td>\n",
       "      <td>6</td>\n",
       "      <td>0</td>\n",
       "      <td>...</td>\n",
       "      <td>8</td>\n",
       "      <td>5</td>\n",
       "      <td>145</td>\n",
       "      <td>5</td>\n",
       "      <td>61</td>\n",
       "      <td>1111</td>\n",
       "      <td>1</td>\n",
       "      <td>2008-07-01</td>\n",
       "      <td>2008</td>\n",
       "      <td>7</td>\n",
       "    </tr>\n",
       "    <tr>\n",
       "      <th>2</th>\n",
       "      <td>5003</td>\n",
       "      <td>21</td>\n",
       "      <td>544</td>\n",
       "      <td>17</td>\n",
       "      <td>588</td>\n",
       "      <td>82</td>\n",
       "      <td>1272</td>\n",
       "      <td>70</td>\n",
       "      <td>5</td>\n",
       "      <td>0</td>\n",
       "      <td>...</td>\n",
       "      <td>8</td>\n",
       "      <td>5</td>\n",
       "      <td>145</td>\n",
       "      <td>6</td>\n",
       "      <td>62</td>\n",
       "      <td>1110</td>\n",
       "      <td>1</td>\n",
       "      <td>2008-08-01</td>\n",
       "      <td>2008</td>\n",
       "      <td>8</td>\n",
       "    </tr>\n",
       "    <tr>\n",
       "      <th>3</th>\n",
       "      <td>3974</td>\n",
       "      <td>21</td>\n",
       "      <td>681</td>\n",
       "      <td>16</td>\n",
       "      <td>587</td>\n",
       "      <td>88</td>\n",
       "      <td>242</td>\n",
       "      <td>67</td>\n",
       "      <td>5</td>\n",
       "      <td>0</td>\n",
       "      <td>...</td>\n",
       "      <td>8</td>\n",
       "      <td>5</td>\n",
       "      <td>144</td>\n",
       "      <td>6</td>\n",
       "      <td>63</td>\n",
       "      <td>1055</td>\n",
       "      <td>1</td>\n",
       "      <td>2008-09-01</td>\n",
       "      <td>2008</td>\n",
       "      <td>9</td>\n",
       "    </tr>\n",
       "    <tr>\n",
       "      <th>4</th>\n",
       "      <td>4738</td>\n",
       "      <td>21</td>\n",
       "      <td>716</td>\n",
       "      <td>17</td>\n",
       "      <td>586</td>\n",
       "      <td>86</td>\n",
       "      <td>803</td>\n",
       "      <td>66</td>\n",
       "      <td>6</td>\n",
       "      <td>0</td>\n",
       "      <td>...</td>\n",
       "      <td>8</td>\n",
       "      <td>5</td>\n",
       "      <td>145</td>\n",
       "      <td>6</td>\n",
       "      <td>64</td>\n",
       "      <td>1125</td>\n",
       "      <td>1</td>\n",
       "      <td>2008-10-01</td>\n",
       "      <td>2008</td>\n",
       "      <td>10</td>\n",
       "    </tr>\n",
       "  </tbody>\n",
       "</table>\n",
       "<p>5 rows × 36 columns</p>\n",
       "</div>"
      ],
      "text/plain": [
       "   U.S. Crude Oil   Alabama  Alaska  Arkansas  California  Colorado  Mexico  \\\n",
       "0             5138       21     655        17         583        82    1326   \n",
       "1             5177       21     640        17         586        81    1372   \n",
       "2             5003       21     544        17         588        82    1272   \n",
       "3             3974       21     681        16         587        88     242   \n",
       "4             4738       21     716        17         586        86     803   \n",
       "\n",
       "   Pacific  Florida  Idaho  ...  Pennsylvania  South Dakota  Wyoming  \\\n",
       "0       67        5      0  ...             8             5      144   \n",
       "1       61        6      0  ...             8             5      145   \n",
       "2       70        5      0  ...             8             5      145   \n",
       "3       67        5      0  ...             8             5      144   \n",
       "4       66        6      0  ...             8             5      145   \n",
       "\n",
       "   West Virginia  Utah  Texas  Tennessee        Date  Year  Month  \n",
       "0              6    60   1097          1  2008-06-01  2008      6  \n",
       "1              5    61   1111          1  2008-07-01  2008      7  \n",
       "2              6    62   1110          1  2008-08-01  2008      8  \n",
       "3              6    63   1055          1  2008-09-01  2008      9  \n",
       "4              6    64   1125          1  2008-10-01  2008     10  \n",
       "\n",
       "[5 rows x 36 columns]"
      ]
     },
     "execution_count": 25,
     "metadata": {},
     "output_type": "execute_result"
    }
   ],
   "source": [
    "crude_oil_data.head(5)"
   ]
  },
  {
   "cell_type": "code",
   "execution_count": 26,
   "metadata": {},
   "outputs": [],
   "source": [
    "crude_oil_data['Date'] = pd.to_datetime(crude_oil_data['Date'])"
   ]
  },
  {
   "cell_type": "code",
   "execution_count": 27,
   "metadata": {},
   "outputs": [
    {
     "data": {
      "text/plain": [
       "<bound method NDFrame.head of 0     2008-06-01\n",
       "1     2008-07-01\n",
       "2     2008-08-01\n",
       "3     2008-09-01\n",
       "4     2008-10-01\n",
       "         ...    \n",
       "116   2018-02-01\n",
       "117   2018-03-01\n",
       "118   2018-04-01\n",
       "119   2018-05-01\n",
       "120   2018-06-01\n",
       "Name: Date, Length: 121, dtype: datetime64[ns]>"
      ]
     },
     "execution_count": 27,
     "metadata": {},
     "output_type": "execute_result"
    }
   ],
   "source": [
    "crude_oil_data['Date'].head"
   ]
  },
  {
   "cell_type": "code",
   "execution_count": 28,
   "metadata": {},
   "outputs": [
    {
     "data": {
      "text/plain": [
       "Text(0.5, 1.0, 'U.S. Crude Oil Production')"
      ]
     },
     "execution_count": 28,
     "metadata": {},
     "output_type": "execute_result"
    },
    {
     "data": {
      "image/png": "[encoded data removed]",
      "text/plain": [
       "<Figure size 864x576 with 1 Axes>"
      ]
     },
     "metadata": {
      "needs_background": "light"
     },
     "output_type": "display_data"
    }
   ],
   "source": [
    "crude_oil_data.plot(x='Date', y='U.S. Crude Oil ', \n",
    "                    figsize = (12, 8), color = 'brown')\n",
    "plt.ylabel('Production')\n",
    "plt.title('U.S. Crude Oil Production')"
   ]
  },
  {
   "cell_type": "code",
   "execution_count": 29,
   "metadata": {},
   "outputs": [
    {
     "data": {
      "text/plain": [
       "Text(0.5, 1.0, 'U.S. Crude Oil Production')"
      ]
     },
     "execution_count": 29,
     "metadata": {},
     "output_type": "execute_result"
    },
    {
     "data": {
      "image/png": "[encoded data removed]",
      "text/plain": [
       "<Figure size 864x576 with 1 Axes>"
      ]
     },
     "metadata": {
      "needs_background": "light"
     },
     "output_type": "display_data"
    }
   ],
   "source": [
    "crude_oil_data.boxplot('U.S. Crude Oil ', figsize = (12, 8))\n",
    "plt.ylabel('Production')\n",
    "plt.title('U.S. Crude Oil Production')"
   ]
  },
  {
   "cell_type": "code",
   "execution_count": 30,
   "metadata": {},
   "outputs": [
    {
     "data": {
      "text/plain": [
       "Text(0.5, 1.0, 'California Crude Oil Production')"
      ]
     },
     "execution_count": 30,
     "metadata": {},
     "output_type": "execute_result"
    },
    {
     "data": {
      "image/png": "[encoded data removed]",
      "text/plain": [
       "<Figure size 864x576 with 1 Axes>"
      ]
     },
     "metadata": {
      "needs_background": "light"
     },
     "output_type": "display_data"
    }
   ],
   "source": [
    "crude_oil_data[['California']].boxplot(figsize = (12, 8))\n",
    "plt.ylabel('Production in California')\n",
    "plt.title('California Crude Oil Production')"
   ]
  },
  {
   "cell_type": "code",
   "execution_count": 31,
   "metadata": {},
   "outputs": [
    {
     "data": {
      "text/plain": [
       "Text(0.5, 1.0, 'Alaska, California Crude Oil Production')"
      ]
     },
     "execution_count": 31,
     "metadata": {},
     "output_type": "execute_result"
    },
    {
     "data": {
      "image/png": "[encoded data removed]",
      "text/plain": [
       "<Figure size 864x576 with 1 Axes>"
      ]
     },
     "metadata": {
      "needs_background": "light"
     },
     "output_type": "display_data"
    }
   ],
   "source": [
    "crude_oil_data[['Alaska', 'California']].boxplot(figsize = (12, 8))\n",
    "plt.ylabel('Production in Alaska, California')\n",
    "plt.title('Alaska, California Crude Oil Production')"
   ]
  },
  {
   "cell_type": "code",
   "execution_count": 32,
   "metadata": {},
   "outputs": [
    {
     "name": "stderr",
     "output_type": "stream",
     "text": [
      "/Users/dsurrao/opt/anaconda3/lib/python3.7/site-packages/numpy/core/_asarray.py:83: VisibleDeprecationWarning: Creating an ndarray from ragged nested sequences (which is a list-or-tuple of lists-or-tuples-or ndarrays with different lengths or shapes) is deprecated. If you meant to do this, you must specify 'dtype=object' when creating the ndarray\n",
      "  return array(a, dtype, copy=False, order=order)\n"
     ]
    },
    {
     "data": {
      "text/plain": [
       "Text(0, 0.5, 'Production')"
      ]
     },
     "execution_count": 32,
     "metadata": {},
     "output_type": "execute_result"
    },
    {
     "data": {
      "image/png": "[encoded data removed]",
      "text/plain": [
       "<Figure size 864x576 with 1 Axes>"
      ]
     },
     "metadata": {
      "needs_background": "light"
     },
     "output_type": "display_data"
    }
   ],
   "source": [
    "crude_oil_data.boxplot(column=['U.S. Crude Oil '], by=['Year'],\n",
    "                       figsize = (12, 8))\n",
    "plt.ylabel('Production')"
   ]
  },
  {
   "cell_type": "code",
   "execution_count": 33,
   "metadata": {},
   "outputs": [
    {
     "data": {
      "text/html": [
       "<div>\n",
       "<style scoped>\n",
       "    .dataframe tbody tr th:only-of-type {\n",
       "        vertical-align: middle;\n",
       "    }\n",
       "\n",
       "    .dataframe tbody tr th {\n",
       "        vertical-align: top;\n",
       "    }\n",
       "\n",
       "    .dataframe thead th {\n",
       "        text-align: right;\n",
       "    }\n",
       "</style>\n",
       "<table border=\"1\" class=\"dataframe\">\n",
       "  <thead>\n",
       "    <tr style=\"text-align: right;\">\n",
       "      <th></th>\n",
       "      <th>Year</th>\n",
       "      <th>U.S. Crude Oil</th>\n",
       "    </tr>\n",
       "  </thead>\n",
       "  <tbody>\n",
       "    <tr>\n",
       "      <th>0</th>\n",
       "      <td>2008</td>\n",
       "      <td>34211</td>\n",
       "    </tr>\n",
       "    <tr>\n",
       "      <th>1</th>\n",
       "      <td>2009</td>\n",
       "      <td>64180</td>\n",
       "    </tr>\n",
       "    <tr>\n",
       "      <th>2</th>\n",
       "      <td>2010</td>\n",
       "      <td>65741</td>\n",
       "    </tr>\n",
       "    <tr>\n",
       "      <th>3</th>\n",
       "      <td>2011</td>\n",
       "      <td>67829</td>\n",
       "    </tr>\n",
       "    <tr>\n",
       "      <th>4</th>\n",
       "      <td>2012</td>\n",
       "      <td>78007</td>\n",
       "    </tr>\n",
       "    <tr>\n",
       "      <th>5</th>\n",
       "      <td>2013</td>\n",
       "      <td>89585</td>\n",
       "    </tr>\n",
       "    <tr>\n",
       "      <th>6</th>\n",
       "      <td>2014</td>\n",
       "      <td>105064</td>\n",
       "    </tr>\n",
       "    <tr>\n",
       "      <th>7</th>\n",
       "      <td>2015</td>\n",
       "      <td>113179</td>\n",
       "    </tr>\n",
       "    <tr>\n",
       "      <th>8</th>\n",
       "      <td>2016</td>\n",
       "      <td>105970</td>\n",
       "    </tr>\n",
       "    <tr>\n",
       "      <th>9</th>\n",
       "      <td>2017</td>\n",
       "      <td>112205</td>\n",
       "    </tr>\n",
       "    <tr>\n",
       "      <th>10</th>\n",
       "      <td>2018</td>\n",
       "      <td>62296</td>\n",
       "    </tr>\n",
       "  </tbody>\n",
       "</table>\n",
       "</div>"
      ],
      "text/plain": [
       "    Year  U.S. Crude Oil \n",
       "0   2008            34211\n",
       "1   2009            64180\n",
       "2   2010            65741\n",
       "3   2011            67829\n",
       "4   2012            78007\n",
       "5   2013            89585\n",
       "6   2014           105064\n",
       "7   2015           113179\n",
       "8   2016           105970\n",
       "9   2017           112205\n",
       "10  2018            62296"
      ]
     },
     "execution_count": 33,
     "metadata": {},
     "output_type": "execute_result"
    }
   ],
   "source": [
    "year_data = crude_oil_data.groupby('Year', as_index= False).sum()\n",
    "year_data[['Year', 'U.S. Crude Oil ']]"
   ]
  },
  {
   "cell_type": "code",
   "execution_count": 34,
   "metadata": {},
   "outputs": [
    {
     "data": {
      "text/plain": [
       "Text(0.5, 1.0, 'U.S. Crude Oil Production')"
      ]
     },
     "execution_count": 34,
     "metadata": {},
     "output_type": "execute_result"
    },
    {
     "data": {
      "image/png": "[encoded data removed]",
      "text/plain": [
       "<Figure size 864x576 with 1 Axes>"
      ]
     },
     "metadata": {
      "needs_background": "light"
     },
     "output_type": "display_data"
    }
   ],
   "source": [
    "colors = ['C0', 'C1', 'C2', 'C3', 'C4', 'C5', 'C6', 'C7', 'C8', 'C9']\n",
    "year_data.plot.bar(x='Year', y='U.S. Crude Oil ',\n",
    "                  figsize=(12,8), color = colors,\n",
    "                  legend = False)\n",
    "\n",
    "plt.ylabel('Production')\n",
    "plt.title('U.S. Crude Oil Production')"
   ]
  },
  {
   "cell_type": "code",
   "execution_count": 75,
   "metadata": {},
   "outputs": [
    {
     "name": "stderr",
     "output_type": "stream",
     "text": [
      "/Users/dsurrao/opt/anaconda3/lib/python3.7/site-packages/ipykernel_launcher.py:1: FutureWarning: DataFrame.mean and DataFrame.median with numeric_only=None will include datetime64 and datetime64tz columns in a future version.\n",
      "  \"\"\"Entry point for launching an IPython kernel.\n"
     ]
    },
    {
     "data": {
      "text/plain": [
       "Alabama            22.958678\n",
       "Alaska            540.404959\n",
       "Arkansas           16.462810\n",
       "California        536.388430\n",
       "Colorado          212.115702\n",
       "Mexico           1444.264463\n",
       "Pacific            43.115702\n",
       "Florida             5.190083\n",
       "Idaho               0.066116\n",
       "Illinois           25.008264\n",
       "Indiana             5.619835\n",
       "Kansas            114.520661\n",
       "Kentucky            7.041322\n",
       "Louisiana         177.404959\n",
       "Michigan           18.016529\n",
       "Mississippi        62.355372\n",
       "Missouri            0.223140\n",
       "Nebraska            6.966942\n",
       "Montana            71.537190\n",
       "Nevada              1.000000\n",
       "New Mexico        305.495868\n",
       "New York            1.000000\n",
       "North Dakota      746.380165\n",
       "Ohio               33.322314\n",
       "Oklahoma          321.611570\n",
       "Pennsylvania       13.876033\n",
       "South Dakota        4.504132\n",
       "Wyoming           180.429752\n",
       "West Virginia      16.471074\n",
       "Utah               85.148760\n",
       "Texas            2403.826446\n",
       "Tennessee           1.000000\n",
       "dtype: float64"
      ]
     },
     "execution_count": 75,
     "metadata": {},
     "output_type": "execute_result"
    }
   ],
   "source": [
    "crude_oil_data.mean()[1:-2]"
   ]
  },
  {
   "cell_type": "code",
   "execution_count": 35,
   "metadata": {},
   "outputs": [
    {
     "name": "stderr",
     "output_type": "stream",
     "text": [
      "/Users/dsurrao/opt/anaconda3/lib/python3.7/site-packages/ipykernel_launcher.py:1: FutureWarning: DataFrame.mean and DataFrame.median with numeric_only=None will include datetime64 and datetime64tz columns in a future version.\n",
      "  \"\"\"Entry point for launching an IPython kernel.\n"
     ]
    },
    {
     "data": {
      "text/plain": [
       "Alabama            22.958678\n",
       "Alaska            540.404959\n",
       "Arkansas           16.462810\n",
       "California        536.388430\n",
       "Colorado          212.115702\n",
       "Mexico           1444.264463\n",
       "Pacific            43.115702\n",
       "Florida             5.190083\n",
       "Idaho               0.066116\n",
       "Illinois           25.008264\n",
       "Indiana             5.619835\n",
       "Kansas            114.520661\n",
       "Kentucky            7.041322\n",
       "Louisiana         177.404959\n",
       "Michigan           18.016529\n",
       "Mississippi        62.355372\n",
       "Missouri            0.223140\n",
       "Nebraska            6.966942\n",
       "Montana            71.537190\n",
       "Nevada              1.000000\n",
       "New Mexico        305.495868\n",
       "New York            1.000000\n",
       "North Dakota      746.380165\n",
       "Ohio               33.322314\n",
       "Oklahoma          321.611570\n",
       "Pennsylvania       13.876033\n",
       "South Dakota        4.504132\n",
       "Wyoming           180.429752\n",
       "West Virginia      16.471074\n",
       "Utah               85.148760\n",
       "Texas            2403.826446\n",
       "dtype: float64"
      ]
     },
     "execution_count": 35,
     "metadata": {},
     "output_type": "execute_result"
    }
   ],
   "source": [
    "mean_prod_data = crude_oil_data.mean()[1:-3]\n",
    "mean_prod_data"
   ]
  },
  {
   "cell_type": "code",
   "execution_count": 36,
   "metadata": {},
   "outputs": [
    {
     "data": {
      "text/plain": [
       "Texas            2403.826446\n",
       "Mexico           1444.264463\n",
       "North Dakota      746.380165\n",
       "Alaska            540.404959\n",
       "California        536.388430\n",
       "Oklahoma          321.611570\n",
       "New Mexico        305.495868\n",
       "Colorado          212.115702\n",
       "Wyoming           180.429752\n",
       "Louisiana         177.404959\n",
       "Kansas            114.520661\n",
       "Utah               85.148760\n",
       "Montana            71.537190\n",
       "Mississippi        62.355372\n",
       "Pacific            43.115702\n",
       "Ohio               33.322314\n",
       "Illinois           25.008264\n",
       "Alabama            22.958678\n",
       "Michigan           18.016529\n",
       "West Virginia      16.471074\n",
       "Arkansas           16.462810\n",
       "Pennsylvania       13.876033\n",
       "Kentucky            7.041322\n",
       "Nebraska            6.966942\n",
       "Indiana             5.619835\n",
       "Florida             5.190083\n",
       "South Dakota        4.504132\n",
       "Nevada              1.000000\n",
       "New York            1.000000\n",
       "Missouri            0.223140\n",
       "Idaho               0.066116\n",
       "dtype: float64"
      ]
     },
     "execution_count": 36,
     "metadata": {},
     "output_type": "execute_result"
    }
   ],
   "source": [
    "mean_prod_data = mean_prod_data.sort_values(ascending= False)\n",
    "mean_prod_data"
   ]
  },
  {
   "cell_type": "code",
   "execution_count": 37,
   "metadata": {},
   "outputs": [
    {
     "data": {
      "text/plain": [
       "Idaho               0.066116\n",
       "Missouri            0.223140\n",
       "New York            1.000000\n",
       "Nevada              1.000000\n",
       "South Dakota        4.504132\n",
       "Florida             5.190083\n",
       "Indiana             5.619835\n",
       "Nebraska            6.966942\n",
       "Kentucky            7.041322\n",
       "Pennsylvania       13.876033\n",
       "Arkansas           16.462810\n",
       "West Virginia      16.471074\n",
       "Michigan           18.016529\n",
       "Alabama            22.958678\n",
       "Illinois           25.008264\n",
       "Ohio               33.322314\n",
       "Pacific            43.115702\n",
       "Mississippi        62.355372\n",
       "Montana            71.537190\n",
       "Utah               85.148760\n",
       "Kansas            114.520661\n",
       "Louisiana         177.404959\n",
       "Wyoming           180.429752\n",
       "Colorado          212.115702\n",
       "New Mexico        305.495868\n",
       "Oklahoma          321.611570\n",
       "California        536.388430\n",
       "Alaska            540.404959\n",
       "North Dakota      746.380165\n",
       "Mexico           1444.264463\n",
       "Texas            2403.826446\n",
       "dtype: float64"
      ]
     },
     "execution_count": 37,
     "metadata": {},
     "output_type": "execute_result"
    }
   ],
   "source": [
    "mean_prod_data = mean_prod_data.sort_values(ascending= True)\n",
    "mean_prod_data"
   ]
  },
  {
   "cell_type": "code",
   "execution_count": 38,
   "metadata": {},
   "outputs": [
    {
     "data": {
      "text/html": [
       "<div>\n",
       "<style scoped>\n",
       "    .dataframe tbody tr th:only-of-type {\n",
       "        vertical-align: middle;\n",
       "    }\n",
       "\n",
       "    .dataframe tbody tr th {\n",
       "        vertical-align: top;\n",
       "    }\n",
       "\n",
       "    .dataframe thead th {\n",
       "        text-align: right;\n",
       "    }\n",
       "</style>\n",
       "<table border=\"1\" class=\"dataframe\">\n",
       "  <thead>\n",
       "    <tr style=\"text-align: right;\">\n",
       "      <th></th>\n",
       "      <th>State</th>\n",
       "      <th>Production</th>\n",
       "    </tr>\n",
       "  </thead>\n",
       "  <tbody>\n",
       "    <tr>\n",
       "      <th>0</th>\n",
       "      <td>Idaho</td>\n",
       "      <td>0.066116</td>\n",
       "    </tr>\n",
       "    <tr>\n",
       "      <th>1</th>\n",
       "      <td>Missouri</td>\n",
       "      <td>0.223140</td>\n",
       "    </tr>\n",
       "    <tr>\n",
       "      <th>2</th>\n",
       "      <td>New York</td>\n",
       "      <td>1.000000</td>\n",
       "    </tr>\n",
       "    <tr>\n",
       "      <th>3</th>\n",
       "      <td>Nevada</td>\n",
       "      <td>1.000000</td>\n",
       "    </tr>\n",
       "    <tr>\n",
       "      <th>4</th>\n",
       "      <td>South Dakota</td>\n",
       "      <td>4.504132</td>\n",
       "    </tr>\n",
       "    <tr>\n",
       "      <th>5</th>\n",
       "      <td>Florida</td>\n",
       "      <td>5.190083</td>\n",
       "    </tr>\n",
       "    <tr>\n",
       "      <th>6</th>\n",
       "      <td>Indiana</td>\n",
       "      <td>5.619835</td>\n",
       "    </tr>\n",
       "    <tr>\n",
       "      <th>7</th>\n",
       "      <td>Nebraska</td>\n",
       "      <td>6.966942</td>\n",
       "    </tr>\n",
       "    <tr>\n",
       "      <th>8</th>\n",
       "      <td>Kentucky</td>\n",
       "      <td>7.041322</td>\n",
       "    </tr>\n",
       "    <tr>\n",
       "      <th>9</th>\n",
       "      <td>Pennsylvania</td>\n",
       "      <td>13.876033</td>\n",
       "    </tr>\n",
       "  </tbody>\n",
       "</table>\n",
       "</div>"
      ],
      "text/plain": [
       "          State  Production\n",
       "0         Idaho    0.066116\n",
       "1      Missouri    0.223140\n",
       "2      New York    1.000000\n",
       "3        Nevada    1.000000\n",
       "4  South Dakota    4.504132\n",
       "5       Florida    5.190083\n",
       "6       Indiana    5.619835\n",
       "7      Nebraska    6.966942\n",
       "8      Kentucky    7.041322\n",
       "9  Pennsylvania   13.876033"
      ]
     },
     "execution_count": 38,
     "metadata": {},
     "output_type": "execute_result"
    }
   ],
   "source": [
    "mean_prod_df = pd.DataFrame(mean_prod_data).reset_index()\n",
    "mean_prod_df.columns = ['State', 'Production']\n",
    "mean_prod_df.head(10)"
   ]
  },
  {
   "cell_type": "code",
   "execution_count": 39,
   "metadata": {},
   "outputs": [
    {
     "data": {
      "image/png": "[encoded data removed]",
      "text/plain": [
       "<Figure size 864x576 with 1 Axes>"
      ]
     },
     "metadata": {
      "needs_background": "light"
     },
     "output_type": "display_data"
    }
   ],
   "source": [
    "plt.figure(figsize=(12,8))\n",
    "plt.bar(mean_prod_df['State'], mean_prod_df['Production'],\n",
    "       width=0.85)\n",
    "plt.title('US Oil Mean-Production June 2008 to June 2018')\n",
    "\n",
    "plt.xticks(rotation=90)\n",
    "plt.xlabel('State')\n",
    "plt.ylabel('Production')\n",
    "\n",
    "plt.show()"
   ]
  },
  {
   "cell_type": "code",
   "execution_count": 40,
   "metadata": {},
   "outputs": [
    {
     "data": {
      "image/png": "[encoded data removed]",
      "text/plain": [
       "<Figure size 864x576 with 1 Axes>"
      ]
     },
     "metadata": {
      "needs_background": "light"
     },
     "output_type": "display_data"
    }
   ],
   "source": [
    "mean_prod_df['Production'].plot.kde(figsize=(12, 8))\n",
    "plt.title('US Oil Mean-Production June 2008 to June 2018')\n",
    "plt.xlabel('Oil Production')\n",
    "\n",
    "plt.show()"
   ]
  },
  {
   "cell_type": "code",
   "execution_count": 41,
   "metadata": {},
   "outputs": [
    {
     "data": {
      "image/png": "[encoded data removed]",
      "text/plain": [
       "<Figure size 864x576 with 1 Axes>"
      ]
     },
     "metadata": {
      "needs_background": "light"
     },
     "output_type": "display_data"
    }
   ],
   "source": [
    "plt.figure(figsize=(12,8))\n",
    "plt.scatter(crude_oil_data['Texas'], crude_oil_data['U.S. Crude Oil '], c='g')\n",
    "\n",
    "#plt.xlabel('U.S. Production')\n",
    "plt.xlabel('U.S. Crude Oil') \n",
    "plt.ylabel('Texas Production')\n",
    "plt.show()"
   ]
  },
  {
   "cell_type": "code",
   "execution_count": 42,
   "metadata": {},
   "outputs": [
    {
     "data": {
      "image/png": "[encoded data removed]",
      "text/plain": [
       "<Figure size 864x576 with 1 Axes>"
      ]
     },
     "metadata": {
      "needs_background": "light"
     },
     "output_type": "display_data"
    }
   ],
   "source": [
    "plt.figure(figsize=(12,8))\n",
    "plt.scatter(crude_oil_data['California'], crude_oil_data['U.S. Crude Oil '], c='y')\n",
    "\n",
    "plt.xlabel('U.S. Production')\n",
    "plt.ylabel('California Production')\n",
    "plt.show()"
   ]
  },
  {
   "cell_type": "code",
   "execution_count": 43,
   "metadata": {},
   "outputs": [
    {
     "data": {
      "image/png": "[encoded data removed]",
      "text/plain": [
       "<Figure size 864x576 with 1 Axes>"
      ]
     },
     "metadata": {
      "needs_background": "light"
     },
     "output_type": "display_data"
    }
   ],
   "source": [
    "plt.figure(figsize=(12,8))\n",
    "plt.scatter(crude_oil_data['Michigan'], crude_oil_data['U.S. Crude Oil '], c='b')\n",
    "\n",
    "plt.xlabel('U.S. Production')\n",
    "plt.ylabel('Michigan Production')\n",
    "plt.show()"
   ]
  },
  {
   "cell_type": "code",
   "execution_count": 44,
   "metadata": {},
   "outputs": [],
   "source": [
    "import numpy as np\n",
    "import pandas as pd\n",
    "import matplotlib.pyplot as plt\n",
    "\n",
    "from scipy.stats import pearsonr, spearmanr"
   ]
  },
  {
   "cell_type": "code",
   "execution_count": 45,
   "metadata": {},
   "outputs": [
    {
     "data": {
      "text/html": [
       "<div>\n",
       "<style scoped>\n",
       "    .dataframe tbody tr th:only-of-type {\n",
       "        vertical-align: middle;\n",
       "    }\n",
       "\n",
       "    .dataframe tbody tr th {\n",
       "        vertical-align: top;\n",
       "    }\n",
       "\n",
       "    .dataframe thead th {\n",
       "        text-align: right;\n",
       "    }\n",
       "</style>\n",
       "<table border=\"1\" class=\"dataframe\">\n",
       "  <thead>\n",
       "    <tr style=\"text-align: right;\">\n",
       "      <th></th>\n",
       "      <th>dteday</th>\n",
       "      <th>season</th>\n",
       "      <th>yr</th>\n",
       "      <th>mnth</th>\n",
       "      <th>holiday</th>\n",
       "      <th>weekday</th>\n",
       "      <th>workingday</th>\n",
       "      <th>weathersit</th>\n",
       "      <th>temp</th>\n",
       "      <th>atemp</th>\n",
       "      <th>hum</th>\n",
       "      <th>windspeed</th>\n",
       "      <th>casual</th>\n",
       "      <th>registered</th>\n",
       "      <th>cnt</th>\n",
       "    </tr>\n",
       "    <tr>\n",
       "      <th>instant</th>\n",
       "      <th></th>\n",
       "      <th></th>\n",
       "      <th></th>\n",
       "      <th></th>\n",
       "      <th></th>\n",
       "      <th></th>\n",
       "      <th></th>\n",
       "      <th></th>\n",
       "      <th></th>\n",
       "      <th></th>\n",
       "      <th></th>\n",
       "      <th></th>\n",
       "      <th></th>\n",
       "      <th></th>\n",
       "      <th></th>\n",
       "    </tr>\n",
       "  </thead>\n",
       "  <tbody>\n",
       "    <tr>\n",
       "      <th>1</th>\n",
       "      <td>1/1/2011</td>\n",
       "      <td>1</td>\n",
       "      <td>0</td>\n",
       "      <td>1</td>\n",
       "      <td>0</td>\n",
       "      <td>6</td>\n",
       "      <td>0</td>\n",
       "      <td>2</td>\n",
       "      <td>0.344167</td>\n",
       "      <td>0.363625</td>\n",
       "      <td>0.805833</td>\n",
       "      <td>0.160446</td>\n",
       "      <td>331</td>\n",
       "      <td>654</td>\n",
       "      <td>985</td>\n",
       "    </tr>\n",
       "    <tr>\n",
       "      <th>2</th>\n",
       "      <td>1/2/2011</td>\n",
       "      <td>1</td>\n",
       "      <td>0</td>\n",
       "      <td>1</td>\n",
       "      <td>0</td>\n",
       "      <td>0</td>\n",
       "      <td>0</td>\n",
       "      <td>2</td>\n",
       "      <td>0.363478</td>\n",
       "      <td>0.353739</td>\n",
       "      <td>0.696087</td>\n",
       "      <td>0.248539</td>\n",
       "      <td>131</td>\n",
       "      <td>670</td>\n",
       "      <td>801</td>\n",
       "    </tr>\n",
       "    <tr>\n",
       "      <th>3</th>\n",
       "      <td>1/3/2011</td>\n",
       "      <td>1</td>\n",
       "      <td>0</td>\n",
       "      <td>1</td>\n",
       "      <td>0</td>\n",
       "      <td>1</td>\n",
       "      <td>1</td>\n",
       "      <td>1</td>\n",
       "      <td>0.196364</td>\n",
       "      <td>0.189405</td>\n",
       "      <td>0.437273</td>\n",
       "      <td>0.248309</td>\n",
       "      <td>120</td>\n",
       "      <td>1229</td>\n",
       "      <td>1349</td>\n",
       "    </tr>\n",
       "    <tr>\n",
       "      <th>4</th>\n",
       "      <td>1/4/2011</td>\n",
       "      <td>1</td>\n",
       "      <td>0</td>\n",
       "      <td>1</td>\n",
       "      <td>0</td>\n",
       "      <td>2</td>\n",
       "      <td>1</td>\n",
       "      <td>1</td>\n",
       "      <td>0.200000</td>\n",
       "      <td>0.212122</td>\n",
       "      <td>0.590435</td>\n",
       "      <td>0.160296</td>\n",
       "      <td>108</td>\n",
       "      <td>1454</td>\n",
       "      <td>1562</td>\n",
       "    </tr>\n",
       "    <tr>\n",
       "      <th>5</th>\n",
       "      <td>1/5/2011</td>\n",
       "      <td>1</td>\n",
       "      <td>0</td>\n",
       "      <td>1</td>\n",
       "      <td>0</td>\n",
       "      <td>3</td>\n",
       "      <td>1</td>\n",
       "      <td>1</td>\n",
       "      <td>0.226957</td>\n",
       "      <td>0.229270</td>\n",
       "      <td>0.436957</td>\n",
       "      <td>0.186900</td>\n",
       "      <td>82</td>\n",
       "      <td>1518</td>\n",
       "      <td>1600</td>\n",
       "    </tr>\n",
       "  </tbody>\n",
       "</table>\n",
       "</div>"
      ],
      "text/plain": [
       "           dteday  season  yr  mnth  holiday  weekday  workingday  weathersit  \\\n",
       "instant                                                                         \n",
       "1        1/1/2011       1   0     1        0        6           0           2   \n",
       "2        1/2/2011       1   0     1        0        0           0           2   \n",
       "3        1/3/2011       1   0     1        0        1           1           1   \n",
       "4        1/4/2011       1   0     1        0        2           1           1   \n",
       "5        1/5/2011       1   0     1        0        3           1           1   \n",
       "\n",
       "             temp     atemp       hum  windspeed  casual  registered   cnt  \n",
       "instant                                                                     \n",
       "1        0.344167  0.363625  0.805833   0.160446     331         654   985  \n",
       "2        0.363478  0.353739  0.696087   0.248539     131         670   801  \n",
       "3        0.196364  0.189405  0.437273   0.248309     120        1229  1349  \n",
       "4        0.200000  0.212122  0.590435   0.160296     108        1454  1562  \n",
       "5        0.226957  0.229270  0.436957   0.186900      82        1518  1600  "
      ]
     },
     "execution_count": 45,
     "metadata": {},
     "output_type": "execute_result"
    }
   ],
   "source": [
    "bikesharing_data = pd.read_csv('data/bike_sharing_daily.csv', index_col=0)\n",
    "bikesharing_data.head(5)"
   ]
  },
  {
   "cell_type": "code",
   "execution_count": 46,
   "metadata": {},
   "outputs": [
    {
     "data": {
      "text/plain": [
       "(731, 15)"
      ]
     },
     "execution_count": 46,
     "metadata": {},
     "output_type": "execute_result"
    }
   ],
   "source": [
    "bikesharing_data.shape"
   ]
  },
  {
   "cell_type": "code",
   "execution_count": 47,
   "metadata": {},
   "outputs": [
    {
     "data": {
      "text/plain": [
       "Index(['dteday', 'season', 'yr', 'mnth', 'holiday', 'weekday', 'workingday',\n",
       "       'weathersit', 'temp', 'atemp', 'hum', 'windspeed', 'casual',\n",
       "       'registered', 'cnt'],\n",
       "      dtype='object')"
      ]
     },
     "execution_count": 47,
     "metadata": {},
     "output_type": "execute_result"
    }
   ],
   "source": [
    "bikesharing_data.columns"
   ]
  },
  {
   "cell_type": "code",
   "execution_count": 48,
   "metadata": {},
   "outputs": [],
   "source": [
    "bikesharing_data['dteday'] = pd.DatetimeIndex(bikesharing_data['dteday'])"
   ]
  },
  {
   "cell_type": "code",
   "execution_count": 49,
   "metadata": {},
   "outputs": [
    {
     "data": {
      "text/plain": [
       "array([[1.        , 0.62749401],\n",
       "       [0.62749401, 1.        ]])"
      ]
     },
     "execution_count": 49,
     "metadata": {},
     "output_type": "execute_result"
    }
   ],
   "source": [
    "np.corrcoef(bikesharing_data['temp'],\n",
    "           bikesharing_data['cnt'])"
   ]
  },
  {
   "cell_type": "code",
   "execution_count": 50,
   "metadata": {},
   "outputs": [
    {
     "data": {
      "text/plain": [
       "0.6274940090334918"
      ]
     },
     "execution_count": 50,
     "metadata": {},
     "output_type": "execute_result"
    }
   ],
   "source": [
    "bikesharing_data['temp'].corr(bikesharing_data['cnt'])"
   ]
  },
  {
   "cell_type": "markdown",
   "metadata": {},
   "source": [
    "Corr coef and P value under .05 is significant"
   ]
  },
  {
   "cell_type": "code",
   "execution_count": 51,
   "metadata": {},
   "outputs": [
    {
     "data": {
      "text/plain": [
       "(0.6274940090334922, 2.8106223975901364e-81)"
      ]
     },
     "execution_count": 51,
     "metadata": {},
     "output_type": "execute_result"
    }
   ],
   "source": [
    "pearsonr(bikesharing_data['temp'],\n",
    "         bikesharing_data['cnt'])"
   ]
  },
  {
   "cell_type": "code",
   "execution_count": 52,
   "metadata": {},
   "outputs": [
    {
     "data": {
      "text/plain": [
       "SpearmanrResult(correlation=0.6220344732276183, pvalue=1.674554642260452e-79)"
      ]
     },
     "execution_count": 52,
     "metadata": {},
     "output_type": "execute_result"
    }
   ],
   "source": [
    "spearmanr(bikesharing_data['temp'],\n",
    "         bikesharing_data['cnt'])"
   ]
  },
  {
   "cell_type": "code",
   "execution_count": 53,
   "metadata": {},
   "outputs": [
    {
     "data": {
      "image/png": "[encoded data removed]",
      "text/plain": [
       "<Figure size 864x576 with 1 Axes>"
      ]
     },
     "metadata": {
      "needs_background": "light"
     },
     "output_type": "display_data"
    }
   ],
   "source": [
    "plt.figure(figsize=(12,8))\n",
    "plt.scatter(bikesharing_data['temp'],\n",
    "           bikesharing_data['cnt'], color = 'm')\n",
    "plt.title('Bike Sharing Daily')\n",
    "\n",
    "plt.xlabel('Temperature')\n",
    "plt.ylabel('Count')\n",
    "\n",
    "plt.show()"
   ]
  },
  {
   "cell_type": "code",
   "execution_count": 54,
   "metadata": {},
   "outputs": [
    {
     "data": {
      "text/plain": [
       "array([[1.        , 0.30390712],\n",
       "       [0.30390712, 1.        ]])"
      ]
     },
     "execution_count": 54,
     "metadata": {},
     "output_type": "execute_result"
    }
   ],
   "source": [
    "np.corrcoef(bikesharing_data['workingday'],\n",
    "           bikesharing_data['registered'])"
   ]
  },
  {
   "cell_type": "code",
   "execution_count": 55,
   "metadata": {},
   "outputs": [
    {
     "data": {
      "text/plain": [
       "0.303907117045917"
      ]
     },
     "execution_count": 55,
     "metadata": {},
     "output_type": "execute_result"
    }
   ],
   "source": [
    "bikesharing_data['workingday'].corr(bikesharing_data['registered'])"
   ]
  },
  {
   "cell_type": "code",
   "execution_count": 56,
   "metadata": {},
   "outputs": [
    {
     "data": {
      "text/plain": [
       "(0.3039071170459174, 4.3815710893705565e-17)"
      ]
     },
     "execution_count": 56,
     "metadata": {},
     "output_type": "execute_result"
    }
   ],
   "source": [
    "pearsonr(bikesharing_data['workingday'],\n",
    "         bikesharing_data['registered'])"
   ]
  },
  {
   "cell_type": "code",
   "execution_count": 57,
   "metadata": {},
   "outputs": [
    {
     "data": {
      "text/plain": [
       "SpearmanrResult(correlation=0.3058584564758216, pvalue=2.6994118569378256e-17)"
      ]
     },
     "execution_count": 57,
     "metadata": {},
     "output_type": "execute_result"
    }
   ],
   "source": [
    "spearmanr(bikesharing_data['workingday'],\n",
    "         bikesharing_data['registered'])"
   ]
  },
  {
   "cell_type": "code",
   "execution_count": 58,
   "metadata": {},
   "outputs": [
    {
     "data": {
      "image/png": "[encoded data removed]",
      "text/plain": [
       "<Figure size 864x576 with 1 Axes>"
      ]
     },
     "metadata": {
      "needs_background": "light"
     },
     "output_type": "display_data"
    }
   ],
   "source": [
    "ax = plt.subplot()\n",
    "bikesharing_data.groupby('workingday').max()['registered'].plot(kind='bar',\n",
    "                                                               figsize=(12,8),\n",
    "                                                               ax = ax,\n",
    "                                                               color = ['r','c'])\n",
    "\n",
    "plt.title('Registered Users')\n",
    "plt.ylabel('Count of Registered Users')\n",
    "\n",
    "plt.show()"
   ]
  },
  {
   "cell_type": "code",
   "execution_count": 59,
   "metadata": {},
   "outputs": [
    {
     "data": {
      "image/png": "[encoded data removed]",
      "text/plain": [
       "<Figure size 864x576 with 1 Axes>"
      ]
     },
     "metadata": {
      "needs_background": "light"
     },
     "output_type": "display_data"
    }
   ],
   "source": [
    "ax = plt.subplot()\n",
    "bikesharing_data.groupby('workingday').max()['casual'].plot(kind='bar',\n",
    "                                                               figsize=(12,8),\n",
    "                                                               ax = ax,\n",
    "                                                               color = ['b','y'])\n",
    "\n",
    "plt.title('Casual Users')\n",
    "plt.ylabel('Count of Casual Users')\n",
    "\n",
    "plt.show()"
   ]
  },
  {
   "cell_type": "code",
   "execution_count": 60,
   "metadata": {},
   "outputs": [
    {
     "data": {
      "text/plain": [
       "array([[ 1.      , -0.234545],\n",
       "       [-0.234545,  1.      ]])"
      ]
     },
     "execution_count": 60,
     "metadata": {},
     "output_type": "execute_result"
    }
   ],
   "source": [
    "np.corrcoef(bikesharing_data['windspeed'],\n",
    "           bikesharing_data['cnt'])"
   ]
  },
  {
   "cell_type": "code",
   "execution_count": 61,
   "metadata": {},
   "outputs": [
    {
     "data": {
      "text/plain": [
       "-0.23454499742166993"
      ]
     },
     "execution_count": 61,
     "metadata": {},
     "output_type": "execute_result"
    }
   ],
   "source": [
    "bikesharing_data['windspeed'].corr(bikesharing_data['cnt'])"
   ]
  },
  {
   "cell_type": "code",
   "execution_count": 62,
   "metadata": {},
   "outputs": [
    {
     "data": {
      "text/plain": [
       "(-0.23454499742167, 1.3599586778869642e-10)"
      ]
     },
     "execution_count": 62,
     "metadata": {},
     "output_type": "execute_result"
    }
   ],
   "source": [
    "pearsonr(bikesharing_data['windspeed'],\n",
    "         bikesharing_data['cnt'])"
   ]
  },
  {
   "cell_type": "code",
   "execution_count": 63,
   "metadata": {},
   "outputs": [
    {
     "data": {
      "text/plain": [
       "SpearmanrResult(correlation=-0.21719701027268842, pvalue=2.9694272867448183e-09)"
      ]
     },
     "execution_count": 63,
     "metadata": {},
     "output_type": "execute_result"
    }
   ],
   "source": [
    "spearmanr(bikesharing_data['windspeed'],\n",
    "         bikesharing_data['cnt'])"
   ]
  },
  {
   "cell_type": "code",
   "execution_count": 64,
   "metadata": {},
   "outputs": [
    {
     "data": {
      "image/png": "[encoded data removed]",
      "text/plain": [
       "<Figure size 864x576 with 1 Axes>"
      ]
     },
     "metadata": {
      "needs_background": "light"
     },
     "output_type": "display_data"
    }
   ],
   "source": [
    "plt.figure(figsize=(12,8))\n",
    "plt.scatter(bikesharing_data['windspeed'],\n",
    "           bikesharing_data['cnt'], color = 'limegreen')\n",
    "plt.title('Bike Sharing Daily')\n",
    "\n",
    "plt.xlabel('Windspeed')\n",
    "plt.ylabel('Count')\n",
    "\n",
    "plt.show()"
   ]
  },
  {
   "cell_type": "code",
   "execution_count": 65,
   "metadata": {},
   "outputs": [
    {
     "data": {
      "text/html": [
       "<div>\n",
       "<style scoped>\n",
       "    .dataframe tbody tr th:only-of-type {\n",
       "        vertical-align: middle;\n",
       "    }\n",
       "\n",
       "    .dataframe tbody tr th {\n",
       "        vertical-align: top;\n",
       "    }\n",
       "\n",
       "    .dataframe thead th {\n",
       "        text-align: right;\n",
       "    }\n",
       "</style>\n",
       "<table border=\"1\" class=\"dataframe\">\n",
       "  <thead>\n",
       "    <tr style=\"text-align: right;\">\n",
       "      <th></th>\n",
       "      <th>season</th>\n",
       "      <th>yr</th>\n",
       "      <th>mnth</th>\n",
       "      <th>holiday</th>\n",
       "      <th>weekday</th>\n",
       "      <th>workingday</th>\n",
       "      <th>weathersit</th>\n",
       "      <th>temp</th>\n",
       "      <th>atemp</th>\n",
       "      <th>hum</th>\n",
       "      <th>windspeed</th>\n",
       "      <th>casual</th>\n",
       "      <th>registered</th>\n",
       "      <th>cnt</th>\n",
       "    </tr>\n",
       "  </thead>\n",
       "  <tbody>\n",
       "    <tr>\n",
       "      <th>season</th>\n",
       "      <td>1.000000</td>\n",
       "      <td>-0.001844</td>\n",
       "      <td>0.831440</td>\n",
       "      <td>-0.010537</td>\n",
       "      <td>-0.003080</td>\n",
       "      <td>0.012485</td>\n",
       "      <td>0.019211</td>\n",
       "      <td>0.334315</td>\n",
       "      <td>0.342876</td>\n",
       "      <td>0.205445</td>\n",
       "      <td>-0.229046</td>\n",
       "      <td>0.210399</td>\n",
       "      <td>0.411623</td>\n",
       "      <td>0.406100</td>\n",
       "    </tr>\n",
       "    <tr>\n",
       "      <th>yr</th>\n",
       "      <td>-0.001844</td>\n",
       "      <td>1.000000</td>\n",
       "      <td>-0.001792</td>\n",
       "      <td>0.007954</td>\n",
       "      <td>-0.005461</td>\n",
       "      <td>-0.002013</td>\n",
       "      <td>-0.048727</td>\n",
       "      <td>0.047604</td>\n",
       "      <td>0.046106</td>\n",
       "      <td>-0.110651</td>\n",
       "      <td>-0.011817</td>\n",
       "      <td>0.248546</td>\n",
       "      <td>0.594248</td>\n",
       "      <td>0.566710</td>\n",
       "    </tr>\n",
       "    <tr>\n",
       "      <th>mnth</th>\n",
       "      <td>0.831440</td>\n",
       "      <td>-0.001792</td>\n",
       "      <td>1.000000</td>\n",
       "      <td>0.019191</td>\n",
       "      <td>0.009509</td>\n",
       "      <td>-0.005901</td>\n",
       "      <td>0.043528</td>\n",
       "      <td>0.220205</td>\n",
       "      <td>0.227459</td>\n",
       "      <td>0.222204</td>\n",
       "      <td>-0.207502</td>\n",
       "      <td>0.123006</td>\n",
       "      <td>0.293488</td>\n",
       "      <td>0.279977</td>\n",
       "    </tr>\n",
       "    <tr>\n",
       "      <th>holiday</th>\n",
       "      <td>-0.010537</td>\n",
       "      <td>0.007954</td>\n",
       "      <td>0.019191</td>\n",
       "      <td>1.000000</td>\n",
       "      <td>-0.101960</td>\n",
       "      <td>-0.253023</td>\n",
       "      <td>-0.034627</td>\n",
       "      <td>-0.028556</td>\n",
       "      <td>-0.032507</td>\n",
       "      <td>-0.015937</td>\n",
       "      <td>0.006292</td>\n",
       "      <td>0.054274</td>\n",
       "      <td>-0.108745</td>\n",
       "      <td>-0.068348</td>\n",
       "    </tr>\n",
       "    <tr>\n",
       "      <th>weekday</th>\n",
       "      <td>-0.003080</td>\n",
       "      <td>-0.005461</td>\n",
       "      <td>0.009509</td>\n",
       "      <td>-0.101960</td>\n",
       "      <td>1.000000</td>\n",
       "      <td>0.035790</td>\n",
       "      <td>0.031087</td>\n",
       "      <td>-0.000170</td>\n",
       "      <td>-0.007537</td>\n",
       "      <td>-0.052232</td>\n",
       "      <td>0.014282</td>\n",
       "      <td>0.059923</td>\n",
       "      <td>0.057367</td>\n",
       "      <td>0.067443</td>\n",
       "    </tr>\n",
       "    <tr>\n",
       "      <th>workingday</th>\n",
       "      <td>0.012485</td>\n",
       "      <td>-0.002013</td>\n",
       "      <td>-0.005901</td>\n",
       "      <td>-0.253023</td>\n",
       "      <td>0.035790</td>\n",
       "      <td>1.000000</td>\n",
       "      <td>0.061200</td>\n",
       "      <td>0.052660</td>\n",
       "      <td>0.052182</td>\n",
       "      <td>0.024327</td>\n",
       "      <td>-0.018796</td>\n",
       "      <td>-0.518044</td>\n",
       "      <td>0.303907</td>\n",
       "      <td>0.061156</td>\n",
       "    </tr>\n",
       "    <tr>\n",
       "      <th>weathersit</th>\n",
       "      <td>0.019211</td>\n",
       "      <td>-0.048727</td>\n",
       "      <td>0.043528</td>\n",
       "      <td>-0.034627</td>\n",
       "      <td>0.031087</td>\n",
       "      <td>0.061200</td>\n",
       "      <td>1.000000</td>\n",
       "      <td>-0.120602</td>\n",
       "      <td>-0.121583</td>\n",
       "      <td>0.591045</td>\n",
       "      <td>0.039511</td>\n",
       "      <td>-0.247353</td>\n",
       "      <td>-0.260388</td>\n",
       "      <td>-0.297391</td>\n",
       "    </tr>\n",
       "    <tr>\n",
       "      <th>temp</th>\n",
       "      <td>0.334315</td>\n",
       "      <td>0.047604</td>\n",
       "      <td>0.220205</td>\n",
       "      <td>-0.028556</td>\n",
       "      <td>-0.000170</td>\n",
       "      <td>0.052660</td>\n",
       "      <td>-0.120602</td>\n",
       "      <td>1.000000</td>\n",
       "      <td>0.991702</td>\n",
       "      <td>0.126963</td>\n",
       "      <td>-0.157944</td>\n",
       "      <td>0.543285</td>\n",
       "      <td>0.540012</td>\n",
       "      <td>0.627494</td>\n",
       "    </tr>\n",
       "    <tr>\n",
       "      <th>atemp</th>\n",
       "      <td>0.342876</td>\n",
       "      <td>0.046106</td>\n",
       "      <td>0.227459</td>\n",
       "      <td>-0.032507</td>\n",
       "      <td>-0.007537</td>\n",
       "      <td>0.052182</td>\n",
       "      <td>-0.121583</td>\n",
       "      <td>0.991702</td>\n",
       "      <td>1.000000</td>\n",
       "      <td>0.139988</td>\n",
       "      <td>-0.183643</td>\n",
       "      <td>0.543864</td>\n",
       "      <td>0.544192</td>\n",
       "      <td>0.631066</td>\n",
       "    </tr>\n",
       "    <tr>\n",
       "      <th>hum</th>\n",
       "      <td>0.205445</td>\n",
       "      <td>-0.110651</td>\n",
       "      <td>0.222204</td>\n",
       "      <td>-0.015937</td>\n",
       "      <td>-0.052232</td>\n",
       "      <td>0.024327</td>\n",
       "      <td>0.591045</td>\n",
       "      <td>0.126963</td>\n",
       "      <td>0.139988</td>\n",
       "      <td>1.000000</td>\n",
       "      <td>-0.248489</td>\n",
       "      <td>-0.077008</td>\n",
       "      <td>-0.091089</td>\n",
       "      <td>-0.100659</td>\n",
       "    </tr>\n",
       "    <tr>\n",
       "      <th>windspeed</th>\n",
       "      <td>-0.229046</td>\n",
       "      <td>-0.011817</td>\n",
       "      <td>-0.207502</td>\n",
       "      <td>0.006292</td>\n",
       "      <td>0.014282</td>\n",
       "      <td>-0.018796</td>\n",
       "      <td>0.039511</td>\n",
       "      <td>-0.157944</td>\n",
       "      <td>-0.183643</td>\n",
       "      <td>-0.248489</td>\n",
       "      <td>1.000000</td>\n",
       "      <td>-0.167613</td>\n",
       "      <td>-0.217449</td>\n",
       "      <td>-0.234545</td>\n",
       "    </tr>\n",
       "    <tr>\n",
       "      <th>casual</th>\n",
       "      <td>0.210399</td>\n",
       "      <td>0.248546</td>\n",
       "      <td>0.123006</td>\n",
       "      <td>0.054274</td>\n",
       "      <td>0.059923</td>\n",
       "      <td>-0.518044</td>\n",
       "      <td>-0.247353</td>\n",
       "      <td>0.543285</td>\n",
       "      <td>0.543864</td>\n",
       "      <td>-0.077008</td>\n",
       "      <td>-0.167613</td>\n",
       "      <td>1.000000</td>\n",
       "      <td>0.395282</td>\n",
       "      <td>0.672804</td>\n",
       "    </tr>\n",
       "    <tr>\n",
       "      <th>registered</th>\n",
       "      <td>0.411623</td>\n",
       "      <td>0.594248</td>\n",
       "      <td>0.293488</td>\n",
       "      <td>-0.108745</td>\n",
       "      <td>0.057367</td>\n",
       "      <td>0.303907</td>\n",
       "      <td>-0.260388</td>\n",
       "      <td>0.540012</td>\n",
       "      <td>0.544192</td>\n",
       "      <td>-0.091089</td>\n",
       "      <td>-0.217449</td>\n",
       "      <td>0.395282</td>\n",
       "      <td>1.000000</td>\n",
       "      <td>0.945517</td>\n",
       "    </tr>\n",
       "    <tr>\n",
       "      <th>cnt</th>\n",
       "      <td>0.406100</td>\n",
       "      <td>0.566710</td>\n",
       "      <td>0.279977</td>\n",
       "      <td>-0.068348</td>\n",
       "      <td>0.067443</td>\n",
       "      <td>0.061156</td>\n",
       "      <td>-0.297391</td>\n",
       "      <td>0.627494</td>\n",
       "      <td>0.631066</td>\n",
       "      <td>-0.100659</td>\n",
       "      <td>-0.234545</td>\n",
       "      <td>0.672804</td>\n",
       "      <td>0.945517</td>\n",
       "      <td>1.000000</td>\n",
       "    </tr>\n",
       "  </tbody>\n",
       "</table>\n",
       "</div>"
      ],
      "text/plain": [
       "              season        yr      mnth   holiday   weekday  workingday  \\\n",
       "season      1.000000 -0.001844  0.831440 -0.010537 -0.003080    0.012485   \n",
       "yr         -0.001844  1.000000 -0.001792  0.007954 -0.005461   -0.002013   \n",
       "mnth        0.831440 -0.001792  1.000000  0.019191  0.009509   -0.005901   \n",
       "holiday    -0.010537  0.007954  0.019191  1.000000 -0.101960   -0.253023   \n",
       "weekday    -0.003080 -0.005461  0.009509 -0.101960  1.000000    0.035790   \n",
       "workingday  0.012485 -0.002013 -0.005901 -0.253023  0.035790    1.000000   \n",
       "weathersit  0.019211 -0.048727  0.043528 -0.034627  0.031087    0.061200   \n",
       "temp        0.334315  0.047604  0.220205 -0.028556 -0.000170    0.052660   \n",
       "atemp       0.342876  0.046106  0.227459 -0.032507 -0.007537    0.052182   \n",
       "hum         0.205445 -0.110651  0.222204 -0.015937 -0.052232    0.024327   \n",
       "windspeed  -0.229046 -0.011817 -0.207502  0.006292  0.014282   -0.018796   \n",
       "casual      0.210399  0.248546  0.123006  0.054274  0.059923   -0.518044   \n",
       "registered  0.411623  0.594248  0.293488 -0.108745  0.057367    0.303907   \n",
       "cnt         0.406100  0.566710  0.279977 -0.068348  0.067443    0.061156   \n",
       "\n",
       "            weathersit      temp     atemp       hum  windspeed    casual  \\\n",
       "season        0.019211  0.334315  0.342876  0.205445  -0.229046  0.210399   \n",
       "yr           -0.048727  0.047604  0.046106 -0.110651  -0.011817  0.248546   \n",
       "mnth          0.043528  0.220205  0.227459  0.222204  -0.207502  0.123006   \n",
       "holiday      -0.034627 -0.028556 -0.032507 -0.015937   0.006292  0.054274   \n",
       "weekday       0.031087 -0.000170 -0.007537 -0.052232   0.014282  0.059923   \n",
       "workingday    0.061200  0.052660  0.052182  0.024327  -0.018796 -0.518044   \n",
       "weathersit    1.000000 -0.120602 -0.121583  0.591045   0.039511 -0.247353   \n",
       "temp         -0.120602  1.000000  0.991702  0.126963  -0.157944  0.543285   \n",
       "atemp        -0.121583  0.991702  1.000000  0.139988  -0.183643  0.543864   \n",
       "hum           0.591045  0.126963  0.139988  1.000000  -0.248489 -0.077008   \n",
       "windspeed     0.039511 -0.157944 -0.183643 -0.248489   1.000000 -0.167613   \n",
       "casual       -0.247353  0.543285  0.543864 -0.077008  -0.167613  1.000000   \n",
       "registered   -0.260388  0.540012  0.544192 -0.091089  -0.217449  0.395282   \n",
       "cnt          -0.297391  0.627494  0.631066 -0.100659  -0.234545  0.672804   \n",
       "\n",
       "            registered       cnt  \n",
       "season        0.411623  0.406100  \n",
       "yr            0.594248  0.566710  \n",
       "mnth          0.293488  0.279977  \n",
       "holiday      -0.108745 -0.068348  \n",
       "weekday       0.057367  0.067443  \n",
       "workingday    0.303907  0.061156  \n",
       "weathersit   -0.260388 -0.297391  \n",
       "temp          0.540012  0.627494  \n",
       "atemp         0.544192  0.631066  \n",
       "hum          -0.091089 -0.100659  \n",
       "windspeed    -0.217449 -0.234545  \n",
       "casual        0.395282  0.672804  \n",
       "registered    1.000000  0.945517  \n",
       "cnt           0.945517  1.000000  "
      ]
     },
     "execution_count": 65,
     "metadata": {},
     "output_type": "execute_result"
    }
   ],
   "source": [
    "bikesharing_data.corr()"
   ]
  },
  {
   "cell_type": "code",
   "execution_count": 66,
   "metadata": {},
   "outputs": [
    {
     "data": {
      "image/png": "[encoded data removed]",
      "text/plain": [
       "<Figure size 864x576 with 2 Axes>"
      ]
     },
     "metadata": {
      "needs_background": "light"
     },
     "output_type": "display_data"
    }
   ],
   "source": [
    "plt.figure(figsize=(12,8))\n",
    "plt.matshow(bikesharing_data.corr(),\n",
    "            fignum=False,\n",
    "            aspect='equal')\n",
    "\n",
    "columns = len(bikesharing_data.columns)\n",
    "\n",
    "plt.xticks(range(columns), bikesharing_data.columns)\n",
    "plt.yticks(range(columns), bikesharing_data.columns)\n",
    "\n",
    "plt.colorbar()\n",
    "plt.xticks(rotation=90)\n",
    "plt.title('Correlations', y=1.2)\n",
    "\n",
    "\n",
    "plt.show()"
   ]
  },
  {
   "cell_type": "code",
   "execution_count": 67,
   "metadata": {},
   "outputs": [
    {
     "name": "stdout",
     "output_type": "stream",
     "text": [
      "Requirement already satisfied: yellowbrick in /Users/dsurrao/opt/anaconda3/lib/python3.7/site-packages (1.3.post1)\r\n",
      "Requirement already satisfied: matplotlib!=3.0.0,>=2.0.2 in /Users/dsurrao/opt/anaconda3/lib/python3.7/site-packages (from yellowbrick) (3.2.2)\r\n",
      "Requirement already satisfied: scikit-learn>=0.20 in /Users/dsurrao/opt/anaconda3/lib/python3.7/site-packages (from yellowbrick) (0.23.1)\r\n",
      "Requirement already satisfied: numpy<1.20,>=1.16.0 in /Users/dsurrao/opt/anaconda3/lib/python3.7/site-packages (from yellowbrick) (1.19.5)\r\n",
      "Requirement already satisfied: cycler>=0.10.0 in /Users/dsurrao/opt/anaconda3/lib/python3.7/site-packages (from yellowbrick) (0.10.0)\r\n",
      "Requirement already satisfied: scipy>=1.0.0 in /Users/dsurrao/opt/anaconda3/lib/python3.7/site-packages (from yellowbrick) (1.5.0)\r\n",
      "Requirement already satisfied: python-dateutil>=2.1 in /Users/dsurrao/opt/anaconda3/lib/python3.7/site-packages (from matplotlib!=3.0.0,>=2.0.2->yellowbrick) (2.8.1)\r\n",
      "Requirement already satisfied: kiwisolver>=1.0.1 in /Users/dsurrao/opt/anaconda3/lib/python3.7/site-packages (from matplotlib!=3.0.0,>=2.0.2->yellowbrick) (1.2.0)\r\n",
      "Requirement already satisfied: pyparsing!=2.0.4,!=2.1.2,!=2.1.6,>=2.0.1 in /Users/dsurrao/opt/anaconda3/lib/python3.7/site-packages (from matplotlib!=3.0.0,>=2.0.2->yellowbrick) (2.4.7)\r\n",
      "Requirement already satisfied: threadpoolctl>=2.0.0 in /Users/dsurrao/opt/anaconda3/lib/python3.7/site-packages (from scikit-learn>=0.20->yellowbrick) (2.1.0)\r\n",
      "Requirement already satisfied: joblib>=0.11 in /Users/dsurrao/opt/anaconda3/lib/python3.7/site-packages (from scikit-learn>=0.20->yellowbrick) (0.16.0)\r\n",
      "Requirement already satisfied: six in /Users/dsurrao/opt/anaconda3/lib/python3.7/site-packages (from cycler>=0.10.0->yellowbrick) (1.15.0)\r\n"
     ]
    }
   ],
   "source": [
    "!pip install yellowbrick"
   ]
  },
  {
   "cell_type": "code",
   "execution_count": 68,
   "metadata": {},
   "outputs": [],
   "source": [
    "target = bikesharing_data['cnt']\n",
    "features = bikesharing_data.drop(['casual', 'registered', 'cnt', 'dteday'], axis=1)"
   ]
  },
  {
   "cell_type": "code",
   "execution_count": 69,
   "metadata": {},
   "outputs": [
    {
     "data": {
      "text/plain": [
       "['season',\n",
       " 'yr',\n",
       " 'mnth',\n",
       " 'holiday',\n",
       " 'weekday',\n",
       " 'workingday',\n",
       " 'weathersit',\n",
       " 'temp',\n",
       " 'atemp',\n",
       " 'hum',\n",
       " 'windspeed']"
      ]
     },
     "execution_count": 69,
     "metadata": {},
     "output_type": "execute_result"
    }
   ],
   "source": [
    "from yellowbrick.target import FeatureCorrelation\n",
    "feature_names = list(features.columns)\n",
    "feature_names"
   ]
  },
  {
   "cell_type": "code",
   "execution_count": 70,
   "metadata": {},
   "outputs": [
    {
     "data": {
      "image/png": "[encoded data removed]",
      "text/plain": [
       "<Figure size 576x396 with 1 Axes>"
      ]
     },
     "metadata": {},
     "output_type": "display_data"
    },
    {
     "data": {
      "text/plain": [
       "<matplotlib.axes._subplots.AxesSubplot at 0x7fdd5f6f4d10>"
      ]
     },
     "execution_count": 70,
     "metadata": {},
     "output_type": "execute_result"
    }
   ],
   "source": [
    "visualizer = FeatureCorrelation(labels = feature_names)\n",
    "visualizer.fit(features, target)\n",
    "\n",
    "visualizer.poof()                               \n",
    "                                "
   ]
  },
  {
   "cell_type": "code",
   "execution_count": null,
   "metadata": {},
   "outputs": [],
   "source": []
  }
 ],
 "metadata": {
  "kernelspec": {
   "display_name": "Python 3",
   "language": "python",
   "name": "python3"
  },
  "language_info": {
   "codemirror_mode": {
    "name": "ipython",
    "version": 3
   },
   "file_extension": ".py",
   "mimetype": "text/x-python",
   "name": "python",
   "nbconvert_exporter": "python",
   "pygments_lexer": "ipython3",
   "version": "3.7.6"
  }
 },
 "nbformat": 4,
 "nbformat_minor": 4
}
